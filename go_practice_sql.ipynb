{
 "cells": [
  {
   "cell_type": "code",
   "execution_count": 45,
   "id": "initial_id",
   "metadata": {
    "collapsed": true,
    "ExecuteTime": {
     "end_time": "2024-01-22T18:43:05.135574900Z",
     "start_time": "2024-01-22T18:43:05.113525400Z"
    }
   },
   "outputs": [],
   "source": [
    "marketing_costs = 4176.14\n",
    "gross_profit = 4309.95"
   ]
  },
  {
   "cell_type": "markdown",
   "source": [
    "ROI = (Gross Profit – Marketing Costs) / Marketing Costs"
   ],
   "metadata": {
    "collapsed": false
   },
   "id": "4c47427d491b6f1b"
  },
  {
   "cell_type": "code",
   "execution_count": 46,
   "outputs": [
    {
     "data": {
      "text/plain": "0.032041550331166936"
     },
     "execution_count": 46,
     "metadata": {},
     "output_type": "execute_result"
    }
   ],
   "source": [
    "roi = (gross_profit - marketing_costs) / marketing_costs\n",
    "roi"
   ],
   "metadata": {
    "collapsed": false,
    "ExecuteTime": {
     "end_time": "2024-01-22T18:43:05.138578200Z",
     "start_time": "2024-01-22T18:43:05.120766500Z"
    }
   },
   "id": "538813f3e95d6568"
  },
  {
   "cell_type": "code",
   "execution_count": 47,
   "outputs": [
    {
     "data": {
      "text/plain": "8.0"
     },
     "execution_count": 47,
     "metadata": {},
     "output_type": "execute_result"
    }
   ],
   "source": [
    "from pandas import DataFrame\n",
    "\n",
    "pollution = { 'Visits':  [1, 1, 2, 5, 6, 7, 8, 12, 20, 25, 57, 118, 333]  }\n",
    "pollution_df = DataFrame(pollution, columns = ['Visits'])\n",
    "pollution_df['Visits'].median()"
   ],
   "metadata": {
    "collapsed": false,
    "ExecuteTime": {
     "end_time": "2024-01-22T18:43:05.212018Z",
     "start_time": "2024-01-22T18:43:05.130003400Z"
    }
   },
   "id": "89e0eea23cf74a84"
  },
  {
   "cell_type": "code",
   "execution_count": 48,
   "outputs": [
    {
     "data": {
      "text/plain": "662629.3400000001"
     },
     "execution_count": 48,
     "metadata": {},
     "output_type": "execute_result"
    }
   ],
   "source": [
    "dohod_2002 = 320133.63 + 342495.71\n",
    "dohod_2002"
   ],
   "metadata": {
    "collapsed": false,
    "ExecuteTime": {
     "end_time": "2024-01-22T18:43:05.213997800Z",
     "start_time": "2024-01-22T18:43:05.138578200Z"
    }
   },
   "id": "79261cc125fad178"
  },
  {
   "cell_type": "code",
   "execution_count": 49,
   "outputs": [
    {
     "data": {
      "text/plain": "324309.10000000003"
     },
     "execution_count": 49,
     "metadata": {},
     "output_type": "execute_result"
    }
   ],
   "source": [
    "dohod_2012 = 40734.12 + 208.16 + 62605.97 + 157350.45 + 63410.40\n",
    "dohod_2012"
   ],
   "metadata": {
    "collapsed": false,
    "ExecuteTime": {
     "end_time": "2024-01-22T18:43:05.213997800Z",
     "start_time": "2024-01-22T18:43:05.143165800Z"
    }
   },
   "id": "e93795862fbe216e"
  },
  {
   "cell_type": "code",
   "execution_count": 50,
   "outputs": [
    {
     "data": {
      "text/plain": "7000.0"
     },
     "execution_count": 50,
     "metadata": {},
     "output_type": "execute_result"
    }
   ],
   "source": [
    "dohod_2510 = 2500.00 + 2250.00 + 2250.00\n",
    "dohod_2510"
   ],
   "metadata": {
    "collapsed": false,
    "ExecuteTime": {
     "end_time": "2024-01-22T18:43:05.215007Z",
     "start_time": "2024-01-22T18:43:05.150225500Z"
    }
   },
   "id": "1d652715442b36fc"
  },
  {
   "cell_type": "code",
   "execution_count": 51,
   "outputs": [
    {
     "data": {
      "text/plain": "2738504.88"
     },
     "execution_count": 51,
     "metadata": {},
     "output_type": "execute_result"
    }
   ],
   "source": [
    "dohod_2000 = 126167.28 + 303299.51 + 221297.50 + 276735.71 + 185914.06 + 285959.45 + 200721.73 + 255827.18 + 81372.29 + 235603.36 + 281268.31 + 284338.50\n",
    "dohod_2000"
   ],
   "metadata": {
    "collapsed": false,
    "ExecuteTime": {
     "end_time": "2024-01-22T18:43:05.215994500Z",
     "start_time": "2024-01-22T18:43:05.157408200Z"
    }
   },
   "id": "5df149309ed6739a"
  },
  {
   "cell_type": "code",
   "execution_count": 52,
   "outputs": [
    {
     "data": {
      "text/plain": "3732443.32"
     },
     "execution_count": 52,
     "metadata": {},
     "output_type": "execute_result"
    }
   ],
   "source": [
    "dohod_2000 + dohod_2002 + dohod_2012 + dohod_2510"
   ],
   "metadata": {
    "collapsed": false,
    "ExecuteTime": {
     "end_time": "2024-01-22T18:43:05.215994500Z",
     "start_time": "2024-01-22T18:43:05.163326Z"
    }
   },
   "id": "69f561c50a40b8bd"
  },
  {
   "cell_type": "code",
   "execution_count": 53,
   "outputs": [
    {
     "name": "stdout",
     "output_type": "stream",
     "text": [
      "0   1000.0\n",
      "1   800.0\n",
      "2   750.0\n",
      "3   720.0\n",
      "4   700.0\n",
      "5   700.0\n",
      "6   700.0\n",
      "7   700.0\n",
      "8   700.0\n",
      "result  6770.0\n"
     ]
    }
   ],
   "source": [
    "ret_array = { 'Retention':  [100,  80,   75,   72,   70,   70,   70,   70,   70,   70] ,\n",
    "              'Users':      [1000, 1000, 1000, 1000, 1000, 1000, 1000, 1000, 1000, 1000]}\n",
    "pollution_df = DataFrame(ret_array, columns = ['Visits'])\n",
    "\n",
    "n = 8\n",
    "result = 0\n",
    "for i in range(n+1):\n",
    "    s = ret_array['Users'][n-i] * ret_array['Retention'][i] / 100\n",
    "    print(i, ' ', s)\n",
    "    result += s\n",
    "print('result ', result)"
   ],
   "metadata": {
    "collapsed": false,
    "ExecuteTime": {
     "end_time": "2024-01-22T18:43:05.215994500Z",
     "start_time": "2024-01-22T18:43:05.171463300Z"
    }
   },
   "id": "9d80b38cb4928421"
  },
  {
   "cell_type": "code",
   "execution_count": 54,
   "outputs": [
    {
     "data": {
      "text/plain": "0.23718944099378883"
     },
     "execution_count": 54,
     "metadata": {},
     "output_type": "execute_result"
    }
   ],
   "source": [
    "contact_joined = 2444\n",
    "launch_first_time = 12748\n",
    "result = contact_joined / (launch_first_time - contact_joined)\n",
    "result"
   ],
   "metadata": {
    "collapsed": false,
    "ExecuteTime": {
     "end_time": "2024-01-22T18:43:05.217017900Z",
     "start_time": "2024-01-22T18:43:05.178648500Z"
    }
   },
   "id": "48017404a3f65b08"
  },
  {
   "cell_type": "markdown",
   "source": [
    "# Доверительные интервалы для конверсий"
   ],
   "metadata": {
    "collapsed": false
   },
   "id": "235a9c6139d548e9"
  },
  {
   "cell_type": "code",
   "execution_count": 55,
   "outputs": [
    {
     "name": "stdout",
     "output_type": "stream",
     "text": [
      "85.96 .. 87.64\n"
     ]
    }
   ],
   "source": [
    "size = 6240\n",
    "theory_conversion = 86.8 / 100\n",
    "\n",
    "low = theory_conversion - 1.96*(theory_conversion*(1-theory_conversion)/size)**(1/2)\n",
    "high = theory_conversion + 1.96*(theory_conversion*(1-theory_conversion)/size)**(1/2)\n",
    "low *= 100\n",
    "high *= 100\n",
    "print(f'{round(low,2)} .. {round(high, 2)}')"
   ],
   "metadata": {
    "collapsed": false,
    "ExecuteTime": {
     "end_time": "2024-01-22T18:43:05.217017900Z",
     "start_time": "2024-01-22T18:43:05.185656100Z"
    }
   },
   "id": "4fa800643a8699c5"
  },
  {
   "cell_type": "code",
   "execution_count": 56,
   "outputs": [
    {
     "name": "stdout",
     "output_type": "stream",
     "text": [
      "-0.61 .. 0.19\n"
     ]
    }
   ],
   "source": [
    "# Доверительный интервал между двумя конверсиями\n",
    "conv1 = 1.94 / 100\n",
    "conv2 = 1.73 / 100\n",
    "n1 = 6240\n",
    "n2 = 15648\n",
    "\n",
    "low = conv2-conv1 - 1.96* ( conv1*(1-conv1)/n1 + conv2*(1-conv2)/n2)**(1/2)\n",
    "high = conv2-conv1 + 1.96* ( conv1*(1-conv1)/n1 + conv2*(1-conv2)/n2)**(1/2)\n",
    "low *= 100\n",
    "high *= 100\n",
    "print(f'{round(low, 2)} .. {round(high, 2)}')"
   ],
   "metadata": {
    "collapsed": false,
    "ExecuteTime": {
     "end_time": "2024-01-22T18:43:05.217017900Z",
     "start_time": "2024-01-22T18:43:05.192369900Z"
    }
   },
   "id": "a9e3d147fa500b7b"
  },
  {
   "cell_type": "code",
   "execution_count": 56,
   "outputs": [],
   "source": [],
   "metadata": {
    "collapsed": false,
    "ExecuteTime": {
     "end_time": "2024-01-22T18:43:05.224017700Z",
     "start_time": "2024-01-22T18:43:05.198467900Z"
    }
   },
   "id": "e7cd2fa6d22a0332"
  }
 ],
 "metadata": {
  "kernelspec": {
   "display_name": "Python 3",
   "language": "python",
   "name": "python3"
  },
  "language_info": {
   "codemirror_mode": {
    "name": "ipython",
    "version": 2
   },
   "file_extension": ".py",
   "mimetype": "text/x-python",
   "name": "python",
   "nbconvert_exporter": "python",
   "pygments_lexer": "ipython2",
   "version": "2.7.6"
  }
 },
 "nbformat": 4,
 "nbformat_minor": 5
}
