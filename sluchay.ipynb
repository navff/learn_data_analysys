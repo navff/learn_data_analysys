{
 "cells": [
  {
   "cell_type": "code",
   "execution_count": 37,
   "id": "initial_id",
   "metadata": {
    "collapsed": true,
    "ExecuteTime": {
     "end_time": "2023-10-24T03:56:53.981557500Z",
     "start_time": "2023-10-24T03:56:53.943825600Z"
    }
   },
   "outputs": [],
   "source": [
    "from pandas import DataFrame\n",
    "import pandas as pd"
   ]
  },
  {
   "cell_type": "code",
   "execution_count": 38,
   "outputs": [],
   "source": [
    "raki = { 'Freq':  [2, 4, 6, 5, 2, 1],\n",
    "         'Count': [0, 1, 2, 3, 4, 5]\n",
    "        } "
   ],
   "metadata": {
    "collapsed": false,
    "ExecuteTime": {
     "end_time": "2023-10-24T03:56:53.981557500Z",
     "start_time": "2023-10-24T03:56:53.948808900Z"
    }
   },
   "id": "494330751335a80"
  },
  {
   "cell_type": "code",
   "execution_count": 39,
   "outputs": [],
   "source": [
    "raki_df = DataFrame(raki, columns = ['Freq', 'Count'])"
   ],
   "metadata": {
    "collapsed": false,
    "ExecuteTime": {
     "end_time": "2023-10-24T03:56:53.982560300Z",
     "start_time": "2023-10-24T03:56:53.953353700Z"
    }
   },
   "id": "d60b2ada912324cc"
  },
  {
   "cell_type": "code",
   "execution_count": 40,
   "outputs": [],
   "source": [
    "freq_sum = raki_df['Freq'].sum()"
   ],
   "metadata": {
    "collapsed": false,
    "ExecuteTime": {
     "end_time": "2023-10-24T03:56:54.068596700Z",
     "start_time": "2023-10-24T03:56:53.958952300Z"
    }
   },
   "id": "460c8595ef9459a0"
  },
  {
   "cell_type": "code",
   "execution_count": 41,
   "outputs": [],
   "source": [
    "raki_df['Probability'] = raki_df['Freq'] / freq_sum"
   ],
   "metadata": {
    "collapsed": false,
    "ExecuteTime": {
     "end_time": "2023-10-24T03:56:54.069594500Z",
     "start_time": "2023-10-24T03:56:53.964503300Z"
    }
   },
   "id": "97afbb0cdc688478"
  },
  {
   "cell_type": "code",
   "execution_count": 42,
   "outputs": [
    {
     "data": {
      "text/plain": "   Freq  Count  Probability\n0     2      0         0.10\n1     4      1         0.20\n2     6      2         0.30\n3     5      3         0.25\n4     2      4         0.10\n5     1      5         0.05",
      "text/html": "<div>\n<style scoped>\n    .dataframe tbody tr th:only-of-type {\n        vertical-align: middle;\n    }\n\n    .dataframe tbody tr th {\n        vertical-align: top;\n    }\n\n    .dataframe thead th {\n        text-align: right;\n    }\n</style>\n<table border=\"1\" class=\"dataframe\">\n  <thead>\n    <tr style=\"text-align: right;\">\n      <th></th>\n      <th>Freq</th>\n      <th>Count</th>\n      <th>Probability</th>\n    </tr>\n  </thead>\n  <tbody>\n    <tr>\n      <th>0</th>\n      <td>2</td>\n      <td>0</td>\n      <td>0.10</td>\n    </tr>\n    <tr>\n      <th>1</th>\n      <td>4</td>\n      <td>1</td>\n      <td>0.20</td>\n    </tr>\n    <tr>\n      <th>2</th>\n      <td>6</td>\n      <td>2</td>\n      <td>0.30</td>\n    </tr>\n    <tr>\n      <th>3</th>\n      <td>5</td>\n      <td>3</td>\n      <td>0.25</td>\n    </tr>\n    <tr>\n      <th>4</th>\n      <td>2</td>\n      <td>4</td>\n      <td>0.10</td>\n    </tr>\n    <tr>\n      <th>5</th>\n      <td>1</td>\n      <td>5</td>\n      <td>0.05</td>\n    </tr>\n  </tbody>\n</table>\n</div>"
     },
     "execution_count": 42,
     "metadata": {},
     "output_type": "execute_result"
    }
   ],
   "source": [
    "raki_df"
   ],
   "metadata": {
    "collapsed": false,
    "ExecuteTime": {
     "end_time": "2023-10-24T03:56:54.070602900Z",
     "start_time": "2023-10-24T03:56:53.968700800Z"
    }
   },
   "id": "489f18e4de7fb208"
  },
  {
   "cell_type": "code",
   "execution_count": 43,
   "outputs": [
    {
     "data": {
      "text/plain": "1.0"
     },
     "execution_count": 43,
     "metadata": {},
     "output_type": "execute_result"
    }
   ],
   "source": [
    "raki_df['Probability'].sum()"
   ],
   "metadata": {
    "collapsed": false,
    "ExecuteTime": {
     "end_time": "2023-10-24T03:56:54.071602200Z",
     "start_time": "2023-10-24T03:56:53.977682100Z"
    }
   },
   "id": "91ae5f5ebcdc6c6"
  },
  {
   "cell_type": "code",
   "execution_count": 44,
   "outputs": [],
   "source": [
    "shoes = { 'Freq':  [7, 3, 2, 1],\n",
    "          'Count': [1, 2, 3, 4]} "
   ],
   "metadata": {
    "collapsed": false,
    "ExecuteTime": {
     "end_time": "2023-10-24T03:56:54.072609200Z",
     "start_time": "2023-10-24T03:56:53.983975900Z"
    }
   },
   "id": "1b460af2862eaf85"
  },
  {
   "cell_type": "code",
   "execution_count": 45,
   "outputs": [],
   "source": [
    "shoes_df = DataFrame(shoes, columns = ['Freq', 'Count'])"
   ],
   "metadata": {
    "collapsed": false,
    "ExecuteTime": {
     "end_time": "2023-10-24T03:56:54.073609600Z",
     "start_time": "2023-10-24T03:56:53.987988800Z"
    }
   },
   "id": "ec569624daac0b86"
  },
  {
   "cell_type": "code",
   "execution_count": 46,
   "outputs": [],
   "source": [
    "freq_sum_df = shoes_df['Freq'].sum()"
   ],
   "metadata": {
    "collapsed": false,
    "ExecuteTime": {
     "end_time": "2023-10-24T03:56:54.073609600Z",
     "start_time": "2023-10-24T03:56:53.993848800Z"
    }
   },
   "id": "da106333e3b56ca5"
  },
  {
   "cell_type": "code",
   "execution_count": 47,
   "outputs": [],
   "source": [
    "shoes_df['Probability'] = shoes_df['Freq'] / freq_sum_df"
   ],
   "metadata": {
    "collapsed": false,
    "ExecuteTime": {
     "end_time": "2023-10-24T03:56:54.073609600Z",
     "start_time": "2023-10-24T03:56:53.997887300Z"
    }
   },
   "id": "922c763c3a910586"
  },
  {
   "cell_type": "code",
   "execution_count": 48,
   "outputs": [
    {
     "data": {
      "text/plain": "   Freq  Count  Probability\n0     7      1     0.538462\n1     3      2     0.230769\n2     2      3     0.153846\n3     1      4     0.076923",
      "text/html": "<div>\n<style scoped>\n    .dataframe tbody tr th:only-of-type {\n        vertical-align: middle;\n    }\n\n    .dataframe tbody tr th {\n        vertical-align: top;\n    }\n\n    .dataframe thead th {\n        text-align: right;\n    }\n</style>\n<table border=\"1\" class=\"dataframe\">\n  <thead>\n    <tr style=\"text-align: right;\">\n      <th></th>\n      <th>Freq</th>\n      <th>Count</th>\n      <th>Probability</th>\n    </tr>\n  </thead>\n  <tbody>\n    <tr>\n      <th>0</th>\n      <td>7</td>\n      <td>1</td>\n      <td>0.538462</td>\n    </tr>\n    <tr>\n      <th>1</th>\n      <td>3</td>\n      <td>2</td>\n      <td>0.230769</td>\n    </tr>\n    <tr>\n      <th>2</th>\n      <td>2</td>\n      <td>3</td>\n      <td>0.153846</td>\n    </tr>\n    <tr>\n      <th>3</th>\n      <td>1</td>\n      <td>4</td>\n      <td>0.076923</td>\n    </tr>\n  </tbody>\n</table>\n</div>"
     },
     "execution_count": 48,
     "metadata": {},
     "output_type": "execute_result"
    }
   ],
   "source": [
    "shoes_df"
   ],
   "metadata": {
    "collapsed": false,
    "ExecuteTime": {
     "end_time": "2023-10-24T03:56:54.082608100Z",
     "start_time": "2023-10-24T03:56:54.003505Z"
    }
   },
   "id": "6f85fa68644eedc2"
  },
  {
   "cell_type": "code",
   "execution_count": 49,
   "outputs": [
    {
     "data": {
      "text/plain": "1.0"
     },
     "execution_count": 49,
     "metadata": {},
     "output_type": "execute_result"
    }
   ],
   "source": [
    "shoes_df['Probability'].sum()"
   ],
   "metadata": {
    "collapsed": false,
    "ExecuteTime": {
     "end_time": "2023-10-24T03:56:54.082608100Z",
     "start_time": "2023-10-24T03:56:54.010792800Z"
    }
   },
   "id": "c3e2512329c1a487"
  },
  {
   "cell_type": "code",
   "execution_count": 50,
   "outputs": [
    {
     "data": {
      "text/plain": "0.23076923076923078"
     },
     "execution_count": 50,
     "metadata": {},
     "output_type": "execute_result"
    }
   ],
   "source": [
    "shoes_df['Probability'][2:].sum()"
   ],
   "metadata": {
    "collapsed": false,
    "ExecuteTime": {
     "end_time": "2023-10-24T03:56:54.084152800Z",
     "start_time": "2023-10-24T03:56:54.019064800Z"
    }
   },
   "id": "a322e432a69ab465"
  },
  {
   "cell_type": "code",
   "execution_count": 51,
   "outputs": [],
   "source": [
    "cats = [31,27,29,23,30]"
   ],
   "metadata": {
    "collapsed": false,
    "ExecuteTime": {
     "end_time": "2023-10-24T03:56:54.084671500Z",
     "start_time": "2023-10-24T03:56:54.027591500Z"
    }
   },
   "id": "2303abfa2ae7a11f"
  },
  {
   "cell_type": "code",
   "execution_count": 52,
   "outputs": [],
   "source": [
    "cats_df = DataFrame(cats, columns = ['Time'])"
   ],
   "metadata": {
    "collapsed": false,
    "ExecuteTime": {
     "end_time": "2023-10-24T03:56:54.084671500Z",
     "start_time": "2023-10-24T03:56:54.030709800Z"
    }
   },
   "id": "fde96c61b80a1cdf"
  },
  {
   "cell_type": "code",
   "execution_count": 53,
   "outputs": [],
   "source": [
    "M = 30"
   ],
   "metadata": {
    "collapsed": false,
    "ExecuteTime": {
     "end_time": "2023-10-24T03:56:54.084671500Z",
     "start_time": "2023-10-24T03:56:54.038322700Z"
    }
   },
   "id": "b24677d9fd587fd7"
  },
  {
   "cell_type": "code",
   "execution_count": 54,
   "outputs": [],
   "source": [
    "Sigma = 3"
   ],
   "metadata": {
    "collapsed": false,
    "ExecuteTime": {
     "end_time": "2023-10-24T03:56:54.085700500Z",
     "start_time": "2023-10-24T03:56:54.043409900Z"
    }
   },
   "id": "24d3222f1eacf9d0"
  },
  {
   "cell_type": "code",
   "execution_count": 55,
   "outputs": [
    {
     "data": {
      "text/plain": "   Time  Standard\n0    31  0.333333\n1    27 -1.000000\n2    29 -0.333333\n3    23 -2.333333\n4    30  0.000000",
      "text/html": "<div>\n<style scoped>\n    .dataframe tbody tr th:only-of-type {\n        vertical-align: middle;\n    }\n\n    .dataframe tbody tr th {\n        vertical-align: top;\n    }\n\n    .dataframe thead th {\n        text-align: right;\n    }\n</style>\n<table border=\"1\" class=\"dataframe\">\n  <thead>\n    <tr style=\"text-align: right;\">\n      <th></th>\n      <th>Time</th>\n      <th>Standard</th>\n    </tr>\n  </thead>\n  <tbody>\n    <tr>\n      <th>0</th>\n      <td>31</td>\n      <td>0.333333</td>\n    </tr>\n    <tr>\n      <th>1</th>\n      <td>27</td>\n      <td>-1.000000</td>\n    </tr>\n    <tr>\n      <th>2</th>\n      <td>29</td>\n      <td>-0.333333</td>\n    </tr>\n    <tr>\n      <th>3</th>\n      <td>23</td>\n      <td>-2.333333</td>\n    </tr>\n    <tr>\n      <th>4</th>\n      <td>30</td>\n      <td>0.000000</td>\n    </tr>\n  </tbody>\n</table>\n</div>"
     },
     "execution_count": 55,
     "metadata": {},
     "output_type": "execute_result"
    }
   ],
   "source": [
    "cats_df['Standard'] = (cats_df['Time'] - M) / Sigma\n",
    "cats_df"
   ],
   "metadata": {
    "collapsed": false,
    "ExecuteTime": {
     "end_time": "2023-10-24T03:56:54.086700200Z",
     "start_time": "2023-10-24T03:56:54.048468400Z"
    }
   },
   "id": "8e1435d982ece8e7"
  },
  {
   "cell_type": "code",
   "execution_count": 57,
   "outputs": [
    {
     "data": {
      "text/plain": "   Time  Standard\n3    23 -2.333333",
      "text/html": "<div>\n<style scoped>\n    .dataframe tbody tr th:only-of-type {\n        vertical-align: middle;\n    }\n\n    .dataframe tbody tr th {\n        vertical-align: top;\n    }\n\n    .dataframe thead th {\n        text-align: right;\n    }\n</style>\n<table border=\"1\" class=\"dataframe\">\n  <thead>\n    <tr style=\"text-align: right;\">\n      <th></th>\n      <th>Time</th>\n      <th>Standard</th>\n    </tr>\n  </thead>\n  <tbody>\n    <tr>\n      <th>3</th>\n      <td>23</td>\n      <td>-2.333333</td>\n    </tr>\n  </tbody>\n</table>\n</div>"
     },
     "execution_count": 57,
     "metadata": {},
     "output_type": "execute_result"
    }
   ],
   "source": [
    "cats_df.loc[( (cats_df['Standard']>1.95) | (cats_df['Standard']<-1.95) )]"
   ],
   "metadata": {
    "collapsed": false,
    "ExecuteTime": {
     "end_time": "2023-10-24T03:57:32.294445300Z",
     "start_time": "2023-10-24T03:57:32.285240Z"
    }
   },
   "id": "c07105e712c9aebb"
  }
 ],
 "metadata": {
  "kernelspec": {
   "display_name": "Python 3",
   "language": "python",
   "name": "python3"
  },
  "language_info": {
   "codemirror_mode": {
    "name": "ipython",
    "version": 2
   },
   "file_extension": ".py",
   "mimetype": "text/x-python",
   "name": "python",
   "nbconvert_exporter": "python",
   "pygments_lexer": "ipython2",
   "version": "2.7.6"
  }
 },
 "nbformat": 4,
 "nbformat_minor": 5
}
