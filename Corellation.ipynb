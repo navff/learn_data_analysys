{
 "cells": [
  {
   "cell_type": "code",
   "execution_count": null,
   "id": "f11569bc-0f90-4998-975d-3ac2bca1f424",
   "metadata": {
    "is_executing": true
   },
   "outputs": [],
   "source": [
    "from pandas import DataFrame\n",
    "import pandas as pd"
   ]
  },
  {
   "cell_type": "code",
   "execution_count": 1,
   "id": "0e7c7448-c11d-4720-9d33-4cd859a9f653",
   "metadata": {
    "ExecuteTime": {
     "end_time": "2023-10-23T03:37:16.359945200Z",
     "start_time": "2023-10-23T03:37:16.359945200Z"
    }
   },
   "outputs": [],
   "source": [
    "actives = { 'ActiveA': [23, 30, 33, 34, 34, 34, 35, 37, 39, 41, 41, 44, 45, 45, 45, 47, 48, 50, 52, 55], \n",
    "            'ActiveB': [1, 2, 8, 11, 11, 13, 14,15, 17, 18, 21, 23, 23, 26, 26, 28, 29, 33, 39, 47] \n",
    "} "
   ]
  },
  {
   "cell_type": "code",
   "execution_count": null,
   "id": "7b48a375-e550-4889-8744-c2cdd812dd95",
   "metadata": {
    "is_executing": true
   },
   "outputs": [],
   "source": [
    "df = DataFrame(actives, columns = ['ActiveA', 'ActiveB', 'Отклонение_A', 'Отклонение_B']) "
   ]
  },
  {
   "cell_type": "code",
   "execution_count": null,
   "id": "95d2b9a6-5e5c-491f-adca-336e0ce884e1",
   "metadata": {
    "is_executing": true
   },
   "outputs": [],
   "source": [
    "df.plot.scatter (x = 'ActiveA', y = 'ActiveB')"
   ]
  },
  {
   "cell_type": "code",
   "execution_count": null,
   "id": "f8463e33-d52d-4f55-be17-550caf7f69ca",
   "metadata": {
    "is_executing": true
   },
   "outputs": [],
   "source": [
    "df.boxplot(column=['ActiveA', 'ActiveB'])"
   ]
  },
  {
   "cell_type": "code",
   "execution_count": null,
   "id": "8351b723-989e-43fe-aab2-89a07a7dece3",
   "metadata": {
    "is_executing": true
   },
   "outputs": [],
   "source": [
    "mean_a = df['ActiveA'].mean()"
   ]
  },
  {
   "cell_type": "code",
   "execution_count": null,
   "id": "03b74486-a56d-469c-bcd5-bb3a4443f7ff",
   "metadata": {
    "is_executing": true
   },
   "outputs": [],
   "source": [
    "mean_a"
   ]
  },
  {
   "cell_type": "code",
   "execution_count": null,
   "id": "e224af02-0116-485c-a627-417c9f3d6026",
   "metadata": {
    "is_executing": true
   },
   "outputs": [],
   "source": [
    "mean_b = df['ActiveB'].mean()"
   ]
  },
  {
   "cell_type": "code",
   "execution_count": null,
   "id": "894c8008-1c2a-43a8-a9c3-5a40fdb6bb76",
   "metadata": {
    "is_executing": true
   },
   "outputs": [],
   "source": [
    "mean_b"
   ]
  },
  {
   "cell_type": "code",
   "execution_count": null,
   "id": "8c59fd53-4044-4994-9b2d-baac2b7bfca8",
   "metadata": {
    "is_executing": true
   },
   "outputs": [],
   "source": [
    "df['Отклонение_A'] =  df['ActiveA'] - mean_a"
   ]
  },
  {
   "cell_type": "code",
   "execution_count": null,
   "id": "738a3d8e-5c65-44c9-9f8a-2f11c692a04d",
   "metadata": {
    "is_executing": true
   },
   "outputs": [],
   "source": [
    "df['Отклонение_A²'] =  df['Отклонение_A']**2"
   ]
  },
  {
   "cell_type": "code",
   "execution_count": null,
   "id": "d8892db7-2985-44b8-9248-cde925daa694",
   "metadata": {
    "is_executing": true
   },
   "outputs": [],
   "source": [
    "df['Отклонение_B'] =  df['ActiveB'] - mean_b"
   ]
  },
  {
   "cell_type": "code",
   "execution_count": null,
   "id": "6d25506a-73f9-4daf-b3ff-f6564a40bc63",
   "metadata": {
    "is_executing": true
   },
   "outputs": [],
   "source": [
    "df['Отклонение_B²'] =  df['Отклонение_B']**2"
   ]
  },
  {
   "cell_type": "code",
   "execution_count": null,
   "id": "1364a3da-5794-41e5-938c-12d6d689820f",
   "metadata": {
    "is_executing": true
   },
   "outputs": [],
   "source": [
    "df['Произв.Откл'] = df['Отклонение_A'] * df['Отклонение_B']"
   ]
  },
  {
   "cell_type": "code",
   "execution_count": null,
   "id": "2bddc232-fa5f-4642-91bf-8aa5be8d6a4f",
   "metadata": {
    "is_executing": true
   },
   "outputs": [],
   "source": [
    "pd.set_option('display.max_rows', 500)\n",
    "pd.set_option('display.max_columns', 500)\n",
    "pd.set_option('display.width', 1000)\n",
    "print(\"Original DataFrame:\\n\", df) "
   ]
  },
  {
   "cell_type": "code",
   "execution_count": null,
   "id": "b14b5854-7ee9-4365-bcb7-bb20c4efe084",
   "metadata": {
    "is_executing": true
   },
   "outputs": [],
   "source": [
    "Cov = df['Произв.Откл'].sum()/(len(df.axes[0]) - 1)"
   ]
  },
  {
   "cell_type": "code",
   "execution_count": null,
   "id": "b09f106c-4286-405e-aa2e-3563d96c41ec",
   "metadata": {
    "is_executing": true
   },
   "outputs": [],
   "source": [
    "Cov"
   ]
  },
  {
   "cell_type": "code",
   "execution_count": null,
   "id": "844b31d0-e254-4059-91be-677276c192f5",
   "metadata": {
    "is_executing": true
   },
   "outputs": [],
   "source": [
    "s_otkl_a = ((df['Отклонение_A²'].sum())/(len(df.axes[0]) - 1))**0.5"
   ]
  },
  {
   "cell_type": "code",
   "execution_count": null,
   "id": "ede1177e-57e7-4340-925e-3978e44814b9",
   "metadata": {
    "is_executing": true
   },
   "outputs": [],
   "source": [
    "s_otkl_a"
   ]
  },
  {
   "cell_type": "code",
   "execution_count": null,
   "id": "9db4a88b-be5f-476c-b996-103d90d198e8",
   "metadata": {
    "is_executing": true
   },
   "outputs": [],
   "source": [
    "s_otkl_b = ((df['Отклонение_B²'].sum())/(len(df.axes[0]) - 1))**0.5"
   ]
  },
  {
   "cell_type": "code",
   "execution_count": null,
   "id": "fea363f5-72e1-4e69-ba3d-4ed93d4902c3",
   "metadata": {
    "is_executing": true
   },
   "outputs": [],
   "source": [
    "s_otkl_b"
   ]
  },
  {
   "cell_type": "code",
   "execution_count": null,
   "id": "ebe58d23-bd5e-472e-928d-b9dcc29d7d84",
   "metadata": {
    "is_executing": true
   },
   "outputs": [],
   "source": [
    "Cov_P = Cov / (s_otkl_a * s_otkl_b)"
   ]
  },
  {
   "cell_type": "code",
   "execution_count": null,
   "id": "7c3bffa1-201c-4df4-8390-04be0ef1cab8",
   "metadata": {
    "is_executing": true
   },
   "outputs": [],
   "source": [
    "print('Коэффициент корелляции Пирсона: ' + Cov_P.astype(str))"
   ]
  }
 ],
 "metadata": {
  "kernelspec": {
   "name": "python3",
   "language": "python",
   "display_name": "Python 3 (ipykernel)"
  },
  "language_info": {
   "codemirror_mode": {
    "name": "ipython",
    "version": 3
   },
   "file_extension": ".py",
   "mimetype": "text/x-python",
   "name": "python",
   "nbconvert_exporter": "python",
   "pygments_lexer": "ipython3",
   "version": "3.11.4"
  }
 },
 "nbformat": 4,
 "nbformat_minor": 5
}
