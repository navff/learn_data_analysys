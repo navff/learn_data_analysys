{
 "cells": [
  {
   "cell_type": "code",
   "execution_count": 118,
   "id": "f11569bc-0f90-4998-975d-3ac2bca1f424",
   "metadata": {
    "ExecuteTime": {
     "end_time": "2023-10-23T05:06:26.832729300Z",
     "start_time": "2023-10-23T05:06:26.796180300Z"
    }
   },
   "outputs": [],
   "source": [
    "from pandas import DataFrame\n",
    "import pandas as pd"
   ]
  },
  {
   "cell_type": "code",
   "execution_count": 119,
   "id": "0e7c7448-c11d-4720-9d33-4cd859a9f653",
   "metadata": {
    "ExecuteTime": {
     "end_time": "2023-10-23T05:06:26.833729300Z",
     "start_time": "2023-10-23T05:06:26.801406900Z"
    }
   },
   "outputs": [],
   "source": [
    "actives = { 'ActiveA': [23, 30, 33, 34, 34, 34, 35, 37, 39, 41, 41, 44, 45, 45, 45, 47, 48, 50, 52, 55], \n",
    "            'ActiveB': [1, 2, 8, 11, 11, 13, 14,15, 17, 18, 21, 23, 23, 26, 26, 28, 29, 33, 39, 47] \n",
    "} "
   ]
  },
  {
   "cell_type": "code",
   "execution_count": 120,
   "id": "7b48a375-e550-4889-8744-c2cdd812dd95",
   "metadata": {
    "ExecuteTime": {
     "end_time": "2023-10-23T05:06:26.833729300Z",
     "start_time": "2023-10-23T05:06:26.806778100Z"
    }
   },
   "outputs": [],
   "source": [
    "df = DataFrame(actives, columns = ['ActiveA', 'ActiveB', 'Отклонение_A', 'Отклонение_B']) "
   ]
  },
  {
   "cell_type": "code",
   "execution_count": 121,
   "id": "95d2b9a6-5e5c-491f-adca-336e0ce884e1",
   "metadata": {
    "ExecuteTime": {
     "end_time": "2023-10-23T05:06:26.997177800Z",
     "start_time": "2023-10-23T05:06:26.813214900Z"
    }
   },
   "outputs": [
    {
     "data": {
      "text/plain": "<Axes: xlabel='ActiveA', ylabel='ActiveB'>"
     },
     "execution_count": 121,
     "metadata": {},
     "output_type": "execute_result"
    },
    {
     "data": {
      "text/plain": "<Figure size 640x480 with 1 Axes>",
      "image/png": "[encoded data removed]"
     },
     "metadata": {},
     "output_type": "display_data"
    }
   ],
   "source": [
    "df.plot.scatter (x = 'ActiveA', y = 'ActiveB')"
   ]
  },
  {
   "cell_type": "code",
   "execution_count": 122,
   "id": "f8463e33-d52d-4f55-be17-550caf7f69ca",
   "metadata": {
    "ExecuteTime": {
     "end_time": "2023-10-23T05:06:27.079210100Z",
     "start_time": "2023-10-23T05:06:26.971164500Z"
    }
   },
   "outputs": [
    {
     "data": {
      "text/plain": "<Axes: >"
     },
     "execution_count": 122,
     "metadata": {},
     "output_type": "execute_result"
    },
    {
     "data": {
      "text/plain": "<Figure size 640x480 with 1 Axes>",
      "image/png": "[encoded data removed]"
     },
     "metadata": {},
     "output_type": "display_data"
    }
   ],
   "source": [
    "df.boxplot(column=['ActiveA', 'ActiveB'])"
   ]
  },
  {
   "cell_type": "code",
   "execution_count": 123,
   "id": "8351b723-989e-43fe-aab2-89a07a7dece3",
   "metadata": {
    "ExecuteTime": {
     "end_time": "2023-10-23T05:06:27.079210100Z",
     "start_time": "2023-10-23T05:06:27.069818200Z"
    }
   },
   "outputs": [],
   "source": [
    "mean_a = df['ActiveA'].mean()"
   ]
  },
  {
   "cell_type": "code",
   "execution_count": 124,
   "id": "03b74486-a56d-469c-bcd5-bb3a4443f7ff",
   "metadata": {
    "ExecuteTime": {
     "end_time": "2023-10-23T05:06:27.082237700Z",
     "start_time": "2023-10-23T05:06:27.076703500Z"
    }
   },
   "outputs": [
    {
     "data": {
      "text/plain": "40.6"
     },
     "execution_count": 124,
     "metadata": {},
     "output_type": "execute_result"
    }
   ],
   "source": [
    "mean_a"
   ]
  },
  {
   "cell_type": "code",
   "execution_count": 125,
   "id": "e224af02-0116-485c-a627-417c9f3d6026",
   "metadata": {
    "ExecuteTime": {
     "end_time": "2023-10-23T05:06:27.094861400Z",
     "start_time": "2023-10-23T05:06:27.083239100Z"
    }
   },
   "outputs": [],
   "source": [
    "mean_b = df['ActiveB'].mean()"
   ]
  },
  {
   "cell_type": "code",
   "execution_count": 126,
   "id": "894c8008-1c2a-43a8-a9c3-5a40fdb6bb76",
   "metadata": {
    "ExecuteTime": {
     "end_time": "2023-10-23T05:06:27.095370200Z",
     "start_time": "2023-10-23T05:06:27.090412500Z"
    }
   },
   "outputs": [
    {
     "data": {
      "text/plain": "20.25"
     },
     "execution_count": 126,
     "metadata": {},
     "output_type": "execute_result"
    }
   ],
   "source": [
    "mean_b"
   ]
  },
  {
   "cell_type": "code",
   "execution_count": 127,
   "id": "8c59fd53-4044-4994-9b2d-baac2b7bfca8",
   "metadata": {
    "ExecuteTime": {
     "end_time": "2023-10-23T05:06:27.104619400Z",
     "start_time": "2023-10-23T05:06:27.095370200Z"
    }
   },
   "outputs": [],
   "source": [
    "df['Отклонение_A'] =  df['ActiveA'] - mean_a"
   ]
  },
  {
   "cell_type": "code",
   "execution_count": 128,
   "id": "738a3d8e-5c65-44c9-9f8a-2f11c692a04d",
   "metadata": {
    "ExecuteTime": {
     "end_time": "2023-10-23T05:06:27.104619400Z",
     "start_time": "2023-10-23T05:06:27.101095600Z"
    }
   },
   "outputs": [],
   "source": [
    "df['Отклонение_A²'] =  df['Отклонение_A']**2"
   ]
  },
  {
   "cell_type": "code",
   "execution_count": 129,
   "id": "d8892db7-2985-44b8-9248-cde925daa694",
   "metadata": {
    "ExecuteTime": {
     "end_time": "2023-10-23T05:06:27.188455500Z",
     "start_time": "2023-10-23T05:06:27.105664400Z"
    }
   },
   "outputs": [],
   "source": [
    "df['Отклонение_B'] =  df['ActiveB'] - mean_b"
   ]
  },
  {
   "cell_type": "code",
   "execution_count": 130,
   "id": "6d25506a-73f9-4daf-b3ff-f6564a40bc63",
   "metadata": {
    "ExecuteTime": {
     "end_time": "2023-10-23T05:06:27.188455500Z",
     "start_time": "2023-10-23T05:06:27.110840900Z"
    }
   },
   "outputs": [],
   "source": [
    "df['Отклонение_B²'] =  df['Отклонение_B']**2"
   ]
  },
  {
   "cell_type": "code",
   "execution_count": 131,
   "id": "1364a3da-5794-41e5-938c-12d6d689820f",
   "metadata": {
    "ExecuteTime": {
     "end_time": "2023-10-23T05:06:27.188455500Z",
     "start_time": "2023-10-23T05:06:27.118350800Z"
    }
   },
   "outputs": [],
   "source": [
    "df['Произв.Откл'] = df['Отклонение_A'] * df['Отклонение_B']"
   ]
  },
  {
   "cell_type": "code",
   "execution_count": 132,
   "id": "2bddc232-fa5f-4642-91bf-8aa5be8d6a4f",
   "metadata": {
    "ExecuteTime": {
     "end_time": "2023-10-23T05:06:27.189651Z",
     "start_time": "2023-10-23T05:06:27.123756100Z"
    }
   },
   "outputs": [
    {
     "name": "stdout",
     "output_type": "stream",
     "text": [
      "Original DataFrame:\n",
      "     ActiveA  ActiveB  Отклонение_A  Отклонение_B  Отклонение_A²  Отклонение_B²  Произв.Откл\n",
      "0        23        1         -17.6        -19.25         309.76       370.5625       338.80\n",
      "1        30        2         -10.6        -18.25         112.36       333.0625       193.45\n",
      "2        33        8          -7.6        -12.25          57.76       150.0625        93.10\n",
      "3        34       11          -6.6         -9.25          43.56        85.5625        61.05\n",
      "4        34       11          -6.6         -9.25          43.56        85.5625        61.05\n",
      "5        34       13          -6.6         -7.25          43.56        52.5625        47.85\n",
      "6        35       14          -5.6         -6.25          31.36        39.0625        35.00\n",
      "7        37       15          -3.6         -5.25          12.96        27.5625        18.90\n",
      "8        39       17          -1.6         -3.25           2.56        10.5625         5.20\n",
      "9        41       18           0.4         -2.25           0.16         5.0625        -0.90\n",
      "10       41       21           0.4          0.75           0.16         0.5625         0.30\n",
      "11       44       23           3.4          2.75          11.56         7.5625         9.35\n",
      "12       45       23           4.4          2.75          19.36         7.5625        12.10\n",
      "13       45       26           4.4          5.75          19.36        33.0625        25.30\n",
      "14       45       26           4.4          5.75          19.36        33.0625        25.30\n",
      "15       47       28           6.4          7.75          40.96        60.0625        49.60\n",
      "16       48       29           7.4          8.75          54.76        76.5625        64.75\n",
      "17       50       33           9.4         12.75          88.36       162.5625       119.85\n",
      "18       52       39          11.4         18.75         129.96       351.5625       213.75\n",
      "19       55       47          14.4         26.75         207.36       715.5625       385.20\n"
     ]
    }
   ],
   "source": [
    "pd.set_option('display.max_rows', 500)\n",
    "pd.set_option('display.max_columns', 500)\n",
    "pd.set_option('display.width', 1000)\n",
    "print(\"Original DataFrame:\\n\", df) "
   ]
  },
  {
   "cell_type": "code",
   "execution_count": 133,
   "id": "b14b5854-7ee9-4365-bcb7-bb20c4efe084",
   "metadata": {
    "ExecuteTime": {
     "end_time": "2023-10-23T05:06:27.189651Z",
     "start_time": "2023-10-23T05:06:27.133786500Z"
    }
   },
   "outputs": [],
   "source": [
    "Cov = df['Произв.Откл'].sum()/(len(df.axes[0]) - 1)"
   ]
  },
  {
   "cell_type": "code",
   "execution_count": 134,
   "id": "b09f106c-4286-405e-aa2e-3563d96c41ec",
   "metadata": {
    "ExecuteTime": {
     "end_time": "2023-10-23T05:06:27.189651Z",
     "start_time": "2023-10-23T05:06:27.139945300Z"
    }
   },
   "outputs": [
    {
     "data": {
      "text/plain": "92.57894736842104"
     },
     "execution_count": 134,
     "metadata": {},
     "output_type": "execute_result"
    }
   ],
   "source": [
    "Cov"
   ]
  },
  {
   "cell_type": "code",
   "execution_count": 135,
   "id": "844b31d0-e254-4059-91be-677276c192f5",
   "metadata": {
    "ExecuteTime": {
     "end_time": "2023-10-23T05:06:27.189651Z",
     "start_time": "2023-10-23T05:06:27.145150500Z"
    }
   },
   "outputs": [],
   "source": [
    "s_otkl_a = ((df['Отклонение_A²'].sum())/(len(df.axes[0]) - 1))**0.5"
   ]
  },
  {
   "cell_type": "code",
   "execution_count": 136,
   "id": "ede1177e-57e7-4340-925e-3978e44814b9",
   "metadata": {
    "ExecuteTime": {
     "end_time": "2023-10-23T05:06:27.190691400Z",
     "start_time": "2023-10-23T05:06:27.150798600Z"
    }
   },
   "outputs": [
    {
     "data": {
      "text/plain": "8.107176807586825"
     },
     "execution_count": 136,
     "metadata": {},
     "output_type": "execute_result"
    }
   ],
   "source": [
    "s_otkl_a"
   ]
  },
  {
   "cell_type": "code",
   "execution_count": 137,
   "id": "9db4a88b-be5f-476c-b996-103d90d198e8",
   "metadata": {
    "ExecuteTime": {
     "end_time": "2023-10-23T05:06:27.190691400Z",
     "start_time": "2023-10-23T05:06:27.153281300Z"
    }
   },
   "outputs": [],
   "source": [
    "s_otkl_b = ((df['Отклонение_B²'].sum())/(len(df.axes[0]) - 1))**0.5"
   ]
  },
  {
   "cell_type": "code",
   "execution_count": 138,
   "id": "fea363f5-72e1-4e69-ba3d-4ed93d4902c3",
   "metadata": {
    "ExecuteTime": {
     "end_time": "2023-10-23T05:06:27.190691400Z",
     "start_time": "2023-10-23T05:06:27.159299800Z"
    }
   },
   "outputs": [
    {
     "data": {
      "text/plain": "11.715374513859981"
     },
     "execution_count": 138,
     "metadata": {},
     "output_type": "execute_result"
    }
   ],
   "source": [
    "s_otkl_b"
   ]
  },
  {
   "cell_type": "code",
   "execution_count": 139,
   "id": "ebe58d23-bd5e-472e-928d-b9dcc29d7d84",
   "metadata": {
    "ExecuteTime": {
     "end_time": "2023-10-23T05:06:27.191707500Z",
     "start_time": "2023-10-23T05:06:27.166315400Z"
    }
   },
   "outputs": [],
   "source": [
    "Cov_P = Cov / (s_otkl_a * s_otkl_b)"
   ]
  },
  {
   "cell_type": "code",
   "execution_count": 140,
   "id": "7c3bffa1-201c-4df4-8390-04be0ef1cab8",
   "metadata": {
    "ExecuteTime": {
     "end_time": "2023-10-23T05:06:27.191707500Z",
     "start_time": "2023-10-23T05:06:27.170911300Z"
    }
   },
   "outputs": [
    {
     "name": "stdout",
     "output_type": "stream",
     "text": [
      "Коэффициент корелляции Пирсона: 0.9747346784914249\n"
     ]
    }
   ],
   "source": [
    "print('Коэффициент корелляции Пирсона: ' + Cov_P.astype(str))"
   ]
  }
 ],
 "metadata": {
  "kernelspec": {
   "name": "python3",
   "language": "python",
   "display_name": "Python 3 (ipykernel)"
  },
  "language_info": {
   "codemirror_mode": {
    "name": "ipython",
    "version": 3
   },
   "file_extension": ".py",
   "mimetype": "text/x-python",
   "name": "python",
   "nbconvert_exporter": "python",
   "pygments_lexer": "ipython3",
   "version": "3.11.4"
  }
 },
 "nbformat": 4,
 "nbformat_minor": 5
}
