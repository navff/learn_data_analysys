{
 "cells": [
  {
   "cell_type": "markdown",
   "source": [
    "## Минимальный необходимый размер выборки"
   ],
   "metadata": {
    "collapsed": false
   },
   "id": "854922935d831b0c"
  },
  {
   "cell_type": "code",
   "execution_count": 66,
   "outputs": [],
   "source": [
    "from statsmodels.stats import proportion\n",
    "from scipy import stats"
   ],
   "metadata": {
    "collapsed": false,
    "ExecuteTime": {
     "end_time": "2023-11-15T19:12:17.134345500Z",
     "start_time": "2023-11-15T19:12:17.087489600Z"
    }
   },
   "id": "6b9288f1e03d9a4"
  },
  {
   "cell_type": "code",
   "execution_count": 67,
   "outputs": [
    {
     "name": "stdout",
     "output_type": "stream",
     "text": [
      "n: 17447\n"
     ]
    }
   ],
   "source": [
    "var_control = 2000 # стандартное отклонение контрольной группы\n",
    "var_test = 2000    # стандартное отклонение тестовой группы\n",
    "za_2 = -1.96 # Квантинь стандартного норм. распределения, соответствующий половине вероятности ошибки первого рода\n",
    "zb = -0.842  # 0.2-квантиль стандартного нормального распределения\n",
    "mde = 60     # Минимальный размер эффекта, который мы хотим зафиксировать в рамках AB теста. Здесь 60 рублей\n",
    "\n",
    "#минимальный размер выборки\n",
    "n = ((var_control**2 + var_test**2) * (za_2 + zb)**2)/mde**2\n",
    "n = round(n)\n",
    "print(f'n: {n}')"
   ],
   "metadata": {
    "collapsed": false,
    "ExecuteTime": {
     "end_time": "2023-11-15T19:12:17.149470600Z",
     "start_time": "2023-11-15T19:12:17.095727100Z"
    }
   },
   "id": "initial_id"
  },
  {
   "cell_type": "code",
   "execution_count": 68,
   "outputs": [
    {
     "name": "stdout",
     "output_type": "stream",
     "text": [
      "n: 8.723559999999999\n"
     ]
    }
   ],
   "source": [
    "var_historical = 2000\n",
    "za_2 = -1.96\n",
    "zb = -0.842\n",
    "mde = 60\n",
    "n = ((2*var_historical) * (za_2 + zb)**2)/mde**2\n",
    "print(f'n: {n}')"
   ],
   "metadata": {
    "collapsed": false,
    "ExecuteTime": {
     "end_time": "2023-11-15T19:12:17.197573400Z",
     "start_time": "2023-11-15T19:12:17.101228Z"
    }
   },
   "id": "af1a1b9e467cd96a"
  },
  {
   "cell_type": "code",
   "execution_count": 69,
   "outputs": [
    {
     "data": {
      "text/plain": "0.0475"
     },
     "execution_count": 69,
     "metadata": {},
     "output_type": "execute_result"
    }
   ],
   "source": [
    "p = 0.05\n",
    "var_bernoulli = p*(1-p)\n",
    "var_bernoulli"
   ],
   "metadata": {
    "collapsed": false,
    "ExecuteTime": {
     "end_time": "2023-11-15T19:12:17.198588400Z",
     "start_time": "2023-11-15T19:12:17.139261700Z"
    }
   },
   "id": "87daed7e004425d7"
  },
  {
   "cell_type": "markdown",
   "source": [
    "# AB тест количественных метрик\n",
    "Полезняшка: https://www.scaler.com/topics/data-science/a-b-testing-in-python/"
   ],
   "metadata": {
    "collapsed": false
   },
   "id": "21a9ddca7f37c536"
  },
  {
   "cell_type": "code",
   "execution_count": 70,
   "outputs": [
    {
     "name": "stdout",
     "output_type": "stream",
     "text": [
      "ese: 0.89\n",
      "t: -2.02\n",
      "df: 978\n",
      "p_value: 0.044\n",
      "Отвергаем гипотезу, что H1=H2. Результат статистически значимый. Если изменение желаемое, — раскатываем фичу\n"
     ]
    }
   ],
   "source": [
    "x1 = 43.87 # среднее по тестовой выборке\n",
    "x2 = 45.67 # среднее по контрольной выборке\n",
    "\n",
    "sx1 = 13 # отклонение по тестовой выборке\n",
    "sx2 = 15 # отклонение по контрольной выборке\n",
    "m1_m2 = 0 # гипотеза\n",
    "n = 500 # количество измерений\n",
    "a = 0.05\n",
    "\n",
    "ese = ( (sx1**2/n) + (sx2**2/n) ) ** 0.5\n",
    "ese = round(ese, 2)\n",
    "print(f'ese: {ese}')\n",
    "\n",
    "t = ((x1 - x2) - (m1_m2))/ ese\n",
    "t = round(t, 2)\n",
    "\n",
    "df = ((n-1)*(sx1**2 + sx2**2)**2)/(sx1**4 + sx2**4) # степени свободы\n",
    "df = round(df)\n",
    "\n",
    "p_value = round(stats.t.sf(abs(t), df=df)*2, 3)\n",
    "\n",
    "print(f't: {t}')\n",
    "print(f'df: {df}')\n",
    "print(f'p_value: {p_value}')\n",
    "\n",
    "if (p_value < a):\n",
    "    print('Отвергаем гипотезу, что H1=H2. Результат статистически значимый. Если изменение желаемое, — раскатываем фичу')\n",
    "else:\n",
    "    print('Принимаем гипотезу, что H1=H2. Результат статичтически НЕ значимый')"
   ],
   "metadata": {
    "collapsed": false,
    "ExecuteTime": {
     "end_time": "2023-11-15T19:12:17.199589300Z",
     "start_time": "2023-11-15T19:12:17.152036600Z"
    }
   },
   "id": "70aff2ab8e043531"
  },
  {
   "cell_type": "markdown",
   "source": [
    "# Тест для пропорций"
   ],
   "metadata": {
    "collapsed": false
   },
   "id": "6381d9c1b673fdfd"
  },
  {
   "cell_type": "code",
   "execution_count": 71,
   "outputs": [
    {
     "name": "stdout",
     "output_type": "stream",
     "text": [
      "p_value: 0.00496\n",
      "z_stat: 2.8095440907613964\n"
     ]
    }
   ],
   "source": [
    "p1 = 0.4   # доля успеха в тестовой группе\n",
    "p2 = 0.34  # доля успеха во второй группе\n",
    "n1 = 1053  # количество в первой группе\n",
    "n2 = 995   # количество во второй группе\n",
    "\n",
    "successes = [n1*p1, n2*p2]\n",
    "nobs = [n1, n2]\n",
    "z_stat, p_value = proportion.proportions_ztest(successes, nobs)\n",
    "p_value = round(p_value, 5)\n",
    "print(f'p_value: {p_value}')\n",
    "print(f'z_stat: {z_stat}')"
   ],
   "metadata": {
    "collapsed": false,
    "ExecuteTime": {
     "end_time": "2023-11-15T19:12:17.199589300Z",
     "start_time": "2023-11-15T19:12:17.172976100Z"
    }
   },
   "id": "3111c127ca9eefd7"
  }
 ],
 "metadata": {
  "kernelspec": {
   "display_name": "Python 3",
   "language": "python",
   "name": "python3"
  },
  "language_info": {
   "codemirror_mode": {
    "name": "ipython",
    "version": 2
   },
   "file_extension": ".py",
   "mimetype": "text/x-python",
   "name": "python",
   "nbconvert_exporter": "python",
   "pygments_lexer": "ipython2",
   "version": "2.7.6"
  }
 },
 "nbformat": 4,
 "nbformat_minor": 5
}
