{
 "cells": [
  {
   "cell_type": "markdown",
   "source": [
    "## Минимальный необходимый размер выборки"
   ],
   "metadata": {
    "collapsed": false
   },
   "id": "854922935d831b0c"
  },
  {
   "cell_type": "code",
   "execution_count": 1,
   "outputs": [
    {
     "name": "stdout",
     "output_type": "stream",
     "text": [
      "n: 17447\n"
     ]
    }
   ],
   "source": [
    "var_control = 2000 # стандартное отклонение контрольной группы\n",
    "var_test = 2000    # стандартное отклонение тестовой группы\n",
    "za_2 = -1.96 # Квантинь стандартного норм. распределения, соответствующий половине вероятности ошибки первого рода\n",
    "zb = -0.842  # 0.2-квантиль стандартного нормального распределения\n",
    "mde = 60     # Минимальный размер эффекта, который мы хотим зафиксировать в рамках AB теста. Здесь 60 рублей\n",
    "\n",
    "#минимальный размер выборки\n",
    "n = ((var_control**2 + var_test**2) * (za_2 + zb)**2)/mde**2\n",
    "n = round(n)\n",
    "print(f'n: {n}')"
   ],
   "metadata": {
    "collapsed": false,
    "ExecuteTime": {
     "end_time": "2023-11-14T13:55:18.179127100Z",
     "start_time": "2023-11-14T13:55:18.173764400Z"
    }
   },
   "id": "initial_id"
  },
  {
   "cell_type": "code",
   "execution_count": 7,
   "outputs": [
    {
     "name": "stdout",
     "output_type": "stream",
     "text": [
      "n: 8.723559999999999\n"
     ]
    }
   ],
   "source": [
    "var_historical = 2000\n",
    "za_2 = -1.96\n",
    "zb = -0.842\n",
    "mde = 60\n",
    "n = ((2*var_historical) * (za_2 + zb)**2)/mde**2\n",
    "print(f'n: {n}')"
   ],
   "metadata": {
    "collapsed": false,
    "ExecuteTime": {
     "end_time": "2023-11-14T15:15:42.892443700Z",
     "start_time": "2023-11-14T15:15:42.881569100Z"
    }
   },
   "id": "af1a1b9e467cd96a"
  },
  {
   "cell_type": "code",
   "execution_count": 30,
   "outputs": [
    {
     "data": {
      "text/plain": "0.0475"
     },
     "execution_count": 30,
     "metadata": {},
     "output_type": "execute_result"
    }
   ],
   "source": [
    "p = 0.05\n",
    "var_bernoulli = p*(1-p)\n",
    "var_bernoulli"
   ],
   "metadata": {
    "collapsed": false,
    "ExecuteTime": {
     "end_time": "2023-11-14T06:35:53.572173600Z",
     "start_time": "2023-11-14T06:35:53.568206800Z"
    }
   },
   "id": "87daed7e004425d7"
  }
 ],
 "metadata": {
  "kernelspec": {
   "display_name": "Python 3",
   "language": "python",
   "name": "python3"
  },
  "language_info": {
   "codemirror_mode": {
    "name": "ipython",
    "version": 2
   },
   "file_extension": ".py",
   "mimetype": "text/x-python",
   "name": "python",
   "nbconvert_exporter": "python",
   "pygments_lexer": "ipython2",
   "version": "2.7.6"
  }
 },
 "nbformat": 4,
 "nbformat_minor": 5
}
