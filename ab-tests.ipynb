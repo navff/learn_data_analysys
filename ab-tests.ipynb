{
 "cells": [
  {
   "cell_type": "markdown",
   "source": [
    "## Минимальный необходимый размер выборки"
   ],
   "metadata": {
    "collapsed": false
   },
   "id": "854922935d831b0c"
  },
  {
   "cell_type": "code",
   "execution_count": 3,
   "outputs": [
    {
     "name": "stdout",
     "output_type": "stream",
     "text": [
      "n: 17447\n"
     ]
    }
   ],
   "source": [
    "var_control = 2000\n",
    "var_test = 2000\n",
    "za_2 = -1.96\n",
    "zb = -0.842\n",
    "mde = 60\n",
    "\n",
    "#минимальный размер выборки\n",
    "n = ((var_control**2 + var_test**2) * (za_2 + zb)**2)/mde**2\n",
    "n = round(n)\n",
    "print(f'n: {n}')"
   ],
   "metadata": {
    "collapsed": false,
    "ExecuteTime": {
     "end_time": "2023-11-13T04:55:04.427928700Z",
     "start_time": "2023-11-13T04:55:04.423807Z"
    }
   },
   "id": "initial_id"
  }
 ],
 "metadata": {
  "kernelspec": {
   "display_name": "Python 3",
   "language": "python",
   "name": "python3"
  },
  "language_info": {
   "codemirror_mode": {
    "name": "ipython",
    "version": 2
   },
   "file_extension": ".py",
   "mimetype": "text/x-python",
   "name": "python",
   "nbconvert_exporter": "python",
   "pygments_lexer": "ipython2",
   "version": "2.7.6"
  }
 },
 "nbformat": 4,
 "nbformat_minor": 5
}
