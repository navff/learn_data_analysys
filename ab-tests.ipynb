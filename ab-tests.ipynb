{
 "cells": [
  {
   "cell_type": "markdown",
   "source": [
    "## Минимальный необходимый размер выборки"
   ],
   "metadata": {
    "collapsed": false
   },
   "id": "854922935d831b0c"
  },
  {
   "cell_type": "code",
   "execution_count": 359,
   "outputs": [],
   "source": [
    "from statsmodels.stats import proportion\n",
    "from scipy import stats"
   ],
   "metadata": {
    "collapsed": false,
    "ExecuteTime": {
     "end_time": "2023-11-16T03:53:36.121445500Z",
     "start_time": "2023-11-16T03:53:36.096119200Z"
    }
   },
   "id": "6b9288f1e03d9a4"
  },
  {
   "cell_type": "code",
   "execution_count": 360,
   "outputs": [
    {
     "name": "stdout",
     "output_type": "stream",
     "text": [
      "n: 9\n"
     ]
    }
   ],
   "source": [
    "var_control = 2000 # стандартное отклонение контрольной группы\n",
    "var_test = 2000    # стандартное отклонение тестовой группы\n",
    "za_2 = stats.norm.ppf(0.025) # Квантинь стандартного норм. распределения, соответствующий половине вероятности ошибки первого рода\n",
    "zb = stats.norm.ppf(0.2) # 0.2-квантиль стандартного нормального распределения\n",
    "mde = 60     # Minimum Detectable Effect. Минимальный размер эффекта, который мы хотим зафиксировать в рамках AB теста. Здесь 60 рублей. \n",
    "\n",
    "#минимальный размер выборки\n",
    "n = ((var_control + var_test) * (za_2 + zb)**2)/mde**2\n",
    "n = round(n)\n",
    "print(f'n: {n}')"
   ],
   "metadata": {
    "collapsed": false,
    "ExecuteTime": {
     "end_time": "2023-11-16T03:53:36.130714200Z",
     "start_time": "2023-11-16T03:53:36.100127500Z"
    }
   },
   "id": "initial_id"
  },
  {
   "cell_type": "markdown",
   "source": [
    "### Мин. размер выборки по историческим данным\n",
    "Берём предыдущий период, считаем по нему дисперсию. В mde закладываем выгоду (эффект), которую хотим получить.\n",
    "\n",
    "\n",
    "Объяснение формулы:\n",
    "По нашим оценкам, дисперсия в контрольной и тестовой группах будет примерно равна 1 000 000 руб². \n",
    "Когда мы будем рассчитывать t-статистику, мы планируем использовать уровень значимости, равный 5%. Мы надеемся, что эффект от внедрения фичи будет равен +12.9₽ выручки на пользователя. Если это действительно так, то мы бы очень хотели, чтобы вероятность зафиксировать статистически значимое отклонение была равна 80%. \n",
    "Выдай, пожалуйста, нам такой размер выборки, чтобы удовлетворял всем нашим прихотям."
   ],
   "metadata": {
    "collapsed": false
   },
   "id": "79ef7eddbd7329f4"
  },
  {
   "cell_type": "code",
   "execution_count": 361,
   "outputs": [
    {
     "name": "stdout",
     "output_type": "stream",
     "text": [
      "n: 23357\n"
     ]
    }
   ],
   "source": [
    "var_historical = 2500  # Дисперсия на исторических данных\n",
    "za_2 = -1.96\n",
    "zb = -1.282\n",
    "mde = 1.5               # Минимальный размер эффекта, который мы хотим зафиксировать в рамках AB теста. Здесь 60 рублей\n",
    "n = ((2*var_historical) * (za_2 + zb)**2)/mde**2\n",
    "n = round(n)\n",
    "print(f'n: {n}')"
   ],
   "metadata": {
    "collapsed": false,
    "ExecuteTime": {
     "end_time": "2023-11-16T03:53:36.131695100Z",
     "start_time": "2023-11-16T03:53:36.107253900Z"
    }
   },
   "id": "af1a1b9e467cd96a"
  },
  {
   "cell_type": "markdown",
   "source": [
    "### Расчёт длительности эксперимента"
   ],
   "metadata": {
    "collapsed": false
   },
   "id": "5bd9eb09bbc276fd"
  },
  {
   "cell_type": "code",
   "execution_count": 362,
   "outputs": [
    {
     "name": "stdout",
     "output_type": "stream",
     "text": [
      "mde: 0.0007546885108949907\n",
      "mde_relative: 1.4797813939117466 %\n",
      "Период подходит. Ура!\n"
     ]
    }
   ],
   "source": [
    "a = 0.05    # Уровень значимости\n",
    "P = 0.8     # Мощность\n",
    "\n",
    "## Далее подставляем значения из статистики предыдущих периодов так, чтобы полученное значение относительного эффекта \n",
    "## было наиболее близким к желаемому, но не больше него. \n",
    "wanted_effect = 1.5 # Желаемый эффект в процентах\n",
    "var_historical = 0.048  # дисперсия, оценённая на данных за прошлые периоды\n",
    "n_historical = 2645900        # количество пользователей, которые в среднем посещают сайт за период, равный выбранной длительности\n",
    "avg_val = 0.051 # среднее значение целевой метрики. Например, ARPU=6448 рублей\n",
    "\n",
    "za_2 = stats.norm.ppf(a/2)\n",
    "zb = stats.norm.ppf(1-P)\n",
    "mde = -(za_2 + zb) * (4*var_historical/n_historical)**0.5\n",
    "mde_relative = mde/avg_val*100\n",
    "\n",
    "print(f'mde: {mde}')\n",
    "print(f'mde_relative: {mde_relative} %')\n",
    "\n",
    "if (mde_relative > wanted_effect):\n",
    "    print('Такой период не подходит')\n",
    "else:\n",
    "    print('Период подходит. Ура!')"
   ],
   "metadata": {
    "collapsed": false,
    "ExecuteTime": {
     "end_time": "2023-11-16T03:53:36.163764700Z",
     "start_time": "2023-11-16T03:53:36.115465500Z"
    }
   },
   "id": "c62be9db8116a994"
  },
  {
   "cell_type": "markdown",
   "source": [
    "### Дисперсия для конверсионных метрик"
   ],
   "metadata": {
    "collapsed": false
   },
   "id": "a97010a411890f65"
  },
  {
   "cell_type": "code",
   "execution_count": 363,
   "outputs": [
    {
     "data": {
      "text/plain": "0.0384"
     },
     "execution_count": 363,
     "metadata": {},
     "output_type": "execute_result"
    }
   ],
   "source": [
    "p = 0.04    # конверсия (вероятность успеха)\n",
    "var_bernoulli = p*(1-p)\n",
    "var_bernoulli"
   ],
   "metadata": {
    "collapsed": false,
    "ExecuteTime": {
     "end_time": "2023-11-16T03:53:36.164770900Z",
     "start_time": "2023-11-16T03:53:36.118252800Z"
    }
   },
   "id": "87daed7e004425d7"
  },
  {
   "cell_type": "markdown",
   "source": [
    "### Мин. размер выборки для конверсионных метрик"
   ],
   "metadata": {
    "collapsed": false
   },
   "id": "8139a56dc6479ae3"
  },
  {
   "cell_type": "code",
   "execution_count": 364,
   "outputs": [
    {
     "name": "stdout",
     "output_type": "stream",
     "text": [
      "var_historical: 0.0384\n",
      "n: 0.000167492352\n"
     ]
    }
   ],
   "source": [
    "p_historical = 0.04    # конверсия (вероятность успеха)\n",
    "var_historical = p*(1-p)\n",
    "za_2 = -1.96\n",
    "zb = -0.842\n",
    "mde = 60               # Минимальный размер эффекта, который мы хотим зафиксировать в рамках AB теста. Здесь 60 рублей\n",
    "n = ((2*var_historical) * (za_2 + zb)**2)/mde**2\n",
    "#n = round(n)\n",
    "print(f'var_historical: {var_historical}')\n",
    "print(f'n: {n}')"
   ],
   "metadata": {
    "collapsed": false,
    "ExecuteTime": {
     "end_time": "2023-11-16T03:53:36.174149900Z",
     "start_time": "2023-11-16T03:53:36.124447Z"
    }
   },
   "id": "611c728ae4359466"
  },
  {
   "cell_type": "markdown",
   "source": [
    "# AB тест количественных метрик\n",
    "Полезняшка: https://www.scaler.com/topics/data-science/a-b-testing-in-python/"
   ],
   "metadata": {
    "collapsed": false
   },
   "id": "21a9ddca7f37c536"
  },
  {
   "cell_type": "code",
   "execution_count": 365,
   "outputs": [
    {
     "name": "stdout",
     "output_type": "stream",
     "text": [
      "ese: 0.71\n",
      "t: 4.8\n",
      "df: 4077\n",
      "p_value: 0.0\n",
      "Отвергаем гипотезу, что H1=H2. Результат статистически значимый. Если изменение желаемое, — раскатываем фичу\n"
     ]
    }
   ],
   "source": [
    "x1 = 74.69  # среднее по тестовой выборке\n",
    "x2 = 71.28 # среднее по контрольной выборке\n",
    "\n",
    "sx1 = 21 # отклонение по тестовой выборке\n",
    "sx2 = 25 # отклонение по контрольной выборке\n",
    "m1_m2 = 0 # гипотеза\n",
    "n = 2100 # количество измерений\n",
    "a = 0.05\n",
    "\n",
    "ese = ( (sx1**2/n) + (sx2**2/n) ) ** 0.5\n",
    "ese = round(ese, 2)\n",
    "print(f'ese: {ese}')\n",
    "\n",
    "t = ((x1 - x2) - (m1_m2))/ ese\n",
    "t = round(t, 2)\n",
    "\n",
    "df = ((n-1)*(sx1**2 + sx2**2)**2)/(sx1**4 + sx2**4) # степени свободы\n",
    "df = round(df)\n",
    "\n",
    "p_value = round(stats.t.sf(abs(t), df=df)*2, 4)\n",
    "\n",
    "print(f't: {t}')\n",
    "print(f'df: {df}')\n",
    "print(f'p_value: {p_value}')\n",
    "\n",
    "if (p_value < a):\n",
    "    print('Отвергаем гипотезу, что H1=H2. Результат статистически значимый. Если изменение желаемое, — раскатываем фичу')\n",
    "else:\n",
    "    print('Принимаем гипотезу, что H1=H2. Результат статичтически НЕ значимый')"
   ],
   "metadata": {
    "collapsed": false,
    "ExecuteTime": {
     "end_time": "2023-11-16T03:53:36.175194400Z",
     "start_time": "2023-11-16T03:53:36.131695100Z"
    }
   },
   "id": "70aff2ab8e043531"
  },
  {
   "cell_type": "markdown",
   "source": [
    "# Тест для пропорций"
   ],
   "metadata": {
    "collapsed": false
   },
   "id": "6381d9c1b673fdfd"
  },
  {
   "cell_type": "code",
   "execution_count": 366,
   "outputs": [
    {
     "name": "stdout",
     "output_type": "stream",
     "text": [
      "p_value: 0.26997\n",
      "z_stat: 1.1031295371812668\n",
      "Принимаем гипотезу, что H1=H2. Результат статичтически НЕ значимый\n"
     ]
    }
   ],
   "source": [
    "p1 = 0.1526   # доля успеха в тестовой группе\n",
    "p2 = 0.1524  # доля успеха во второй группе\n",
    "n1 = 7863369  # количество в первой группе\n",
    "n2 = 7864235   # количество во второй группе\n",
    "a = 0.05\n",
    "successes = [n1*p1, n2*p2]\n",
    "nobs = [n1, n2]\n",
    "z_stat, p_value = proportion.proportions_ztest(successes, nobs)\n",
    "p_value = round(p_value, 5)\n",
    "print(f'p_value: {p_value}')\n",
    "print(f'z_stat: {z_stat}')\n",
    "\n",
    "if (p_value < a):\n",
    "    print('Отвергаем гипотезу, что H1=H2. Результат статистически значимый. Если изменение желаемое, — раскатываем фичу')\n",
    "else:\n",
    "    print('Принимаем гипотезу, что H1=H2. Результат статичтически НЕ значимый')"
   ],
   "metadata": {
    "collapsed": false,
    "ExecuteTime": {
     "end_time": "2023-11-16T03:53:36.176164700Z",
     "start_time": "2023-11-16T03:53:36.139523700Z"
    }
   },
   "id": "3111c127ca9eefd7"
  }
 ],
 "metadata": {
  "kernelspec": {
   "display_name": "Python 3",
   "language": "python",
   "name": "python3"
  },
  "language_info": {
   "codemirror_mode": {
    "name": "ipython",
    "version": 2
   },
   "file_extension": ".py",
   "mimetype": "text/x-python",
   "name": "python",
   "nbconvert_exporter": "python",
   "pygments_lexer": "ipython2",
   "version": "2.7.6"
  }
 },
 "nbformat": 4,
 "nbformat_minor": 5
}
