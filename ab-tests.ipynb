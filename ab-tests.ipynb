{
 "cells": [
  {
   "cell_type": "markdown",
   "source": [
    "## Минимальный необходимый размер выборки"
   ],
   "metadata": {
    "collapsed": false
   },
   "id": "854922935d831b0c"
  },
  {
   "cell_type": "code",
   "execution_count": 3,
   "outputs": [
    {
     "name": "stdout",
     "output_type": "stream",
     "text": [
      "n: 17447\n"
     ]
    }
   ],
   "source": [
    "var_control = 2000\n",
    "var_test = 2000\n",
    "za_2 = -1.96\n",
    "zb = -0.842\n",
    "mde = 60\n",
    "\n",
    "#минимальный размер выборки\n",
    "n = ((var_control**2 + var_test**2) * (za_2 + zb)**2)/mde**2\n",
    "n = round(n)\n",
    "print(f'n: {n}')"
   ],
   "metadata": {
    "collapsed": false,
    "ExecuteTime": {
     "end_time": "2023-11-13T04:55:04.427928700Z",
     "start_time": "2023-11-13T04:55:04.423807Z"
    }
   },
   "id": "initial_id"
  },
  {
   "cell_type": "code",
   "execution_count": 2,
   "outputs": [],
   "source": [
    "orders = 5+0+2+3+4+2+3+1+0+0\n",
    "orders"
   ],
   "metadata": {
    "collapsed": false,
    "ExecuteTime": {
     "end_time": "2023-11-14T03:40:19.768176300Z",
     "start_time": "2023-11-14T03:40:19.764638400Z"
    }
   },
   "id": "48f7637aaa62f8ec"
  },
  {
   "cell_type": "code",
   "execution_count": 3,
   "outputs": [
    {
     "data": {
      "text/plain": "35000"
     },
     "execution_count": 3,
     "metadata": {},
     "output_type": "execute_result"
    }
   ],
   "source": [
    "revenue = 15000\t+ 0\t+ 4000\t+ 4000\t+ 7000\t+ 1500\t+ 2500\t+ 1000\t+ 0\t+ 0\n",
    "revenue"
   ],
   "metadata": {
    "collapsed": false,
    "ExecuteTime": {
     "end_time": "2023-11-14T03:40:39.749123300Z",
     "start_time": "2023-11-14T03:40:39.734377Z"
    }
   },
   "id": "44c7407bf45e69d7"
  },
  {
   "cell_type": "code",
   "execution_count": 4,
   "outputs": [
    {
     "data": {
      "text/plain": "3500.0"
     },
     "execution_count": 4,
     "metadata": {},
     "output_type": "execute_result"
    }
   ],
   "source": [
    "arpu = revenue / 10\n",
    "arpu"
   ],
   "metadata": {
    "collapsed": false,
    "ExecuteTime": {
     "end_time": "2023-11-14T03:41:27.862443Z",
     "start_time": "2023-11-14T03:41:27.856553Z"
    }
   },
   "id": "abe81509d5c580b3"
  },
  {
   "cell_type": "code",
   "execution_count": 5,
   "outputs": [
    {
     "data": {
      "text/plain": "5000.0"
     },
     "execution_count": 5,
     "metadata": {},
     "output_type": "execute_result"
    }
   ],
   "source": [
    "arppu = revenue / 7\n",
    "arppu"
   ],
   "metadata": {
    "collapsed": false,
    "ExecuteTime": {
     "end_time": "2023-11-14T03:41:52.829859400Z",
     "start_time": "2023-11-14T03:41:52.822828Z"
    }
   },
   "id": "bd87efbbd3a44e13"
  },
  {
   "cell_type": "code",
   "execution_count": 7,
   "outputs": [
    {
     "data": {
      "text/plain": "1750.0"
     },
     "execution_count": 7,
     "metadata": {},
     "output_type": "execute_result"
    }
   ],
   "source": [
    "# Average Order Value\n",
    "aov = revenue / orders\n",
    "aov"
   ],
   "metadata": {
    "collapsed": false,
    "ExecuteTime": {
     "end_time": "2023-11-14T03:42:58.714724Z",
     "start_time": "2023-11-14T03:42:58.711531Z"
    }
   },
   "id": "6ab9807a8156afe5"
  },
  {
   "cell_type": "code",
   "execution_count": 8,
   "outputs": [
    {
     "data": {
      "text/plain": "20809787.25"
     },
     "execution_count": 8,
     "metadata": {},
     "output_type": "execute_result"
    }
   ],
   "source": [
    "(21476000 + 19748920 + 20569785 + 21444444) / 4"
   ],
   "metadata": {
    "collapsed": false,
    "ExecuteTime": {
     "end_time": "2023-11-14T03:55:57.675934600Z",
     "start_time": "2023-11-14T03:55:57.665730600Z"
    }
   },
   "id": "9f75dbb1e478d9cc"
  },
  {
   "cell_type": "code",
   "execution_count": 12,
   "outputs": [
    {
     "data": {
      "text/plain": "8.723559999999999"
     },
     "execution_count": 12,
     "metadata": {},
     "output_type": "execute_result"
    }
   ],
   "source": [
    "var_historical = 2000\n",
    "za_2 = -1.96\n",
    "zb = -0.842\n",
    "mde = 60\n",
    "n = ((2*var_historical) * (za_2 + zb)**2)/mde**2\n",
    "n"
   ],
   "metadata": {
    "collapsed": false,
    "ExecuteTime": {
     "end_time": "2023-11-14T04:02:33.871658Z",
     "start_time": "2023-11-14T04:02:33.868021500Z"
    }
   },
   "id": "af1a1b9e467cd96a"
  },
  {
   "cell_type": "code",
   "execution_count": 14,
   "outputs": [],
   "source": [
    "revenue = 400+800+200+600+350+1000+900+1250+300+200\n",
    "revenue\n",
    "arppu = revenue / 6"
   ],
   "metadata": {
    "collapsed": false,
    "ExecuteTime": {
     "end_time": "2023-11-14T04:26:38.429356700Z",
     "start_time": "2023-11-14T04:26:38.419012500Z"
    }
   },
   "id": "8bba69f78957dc7b"
  },
  {
   "cell_type": "code",
   "execution_count": 15,
   "outputs": [
    {
     "data": {
      "text/plain": "1000.0"
     },
     "execution_count": 15,
     "metadata": {},
     "output_type": "execute_result"
    }
   ],
   "source": [
    "arppu"
   ],
   "metadata": {
    "collapsed": false,
    "ExecuteTime": {
     "end_time": "2023-11-14T04:26:42.820114300Z",
     "start_time": "2023-11-14T04:26:42.815888300Z"
    }
   },
   "id": "6eeb2d406821511a"
  },
  {
   "cell_type": "code",
   "execution_count": 17,
   "outputs": [
    {
     "data": {
      "text/plain": "600.0"
     },
     "execution_count": 17,
     "metadata": {},
     "output_type": "execute_result"
    }
   ],
   "source": [
    "aov = revenue / 10\n",
    "aov"
   ],
   "metadata": {
    "collapsed": false,
    "ExecuteTime": {
     "end_time": "2023-11-14T04:27:25.627607900Z",
     "start_time": "2023-11-14T04:27:25.624209300Z"
    }
   },
   "id": "663a45ebd8e44869"
  },
  {
   "cell_type": "code",
   "execution_count": 18,
   "outputs": [
    {
     "data": {
      "text/plain": "0.01"
     },
     "execution_count": 18,
     "metadata": {},
     "output_type": "execute_result"
    }
   ],
   "source": [
    "arppu = 300\n",
    "arpu = 3\n",
    "\n",
    "arpu / arppu"
   ],
   "metadata": {
    "collapsed": false,
    "ExecuteTime": {
     "end_time": "2023-11-14T04:28:57.489687900Z",
     "start_time": "2023-11-14T04:28:57.484899800Z"
    }
   },
   "id": "18253b4350a1e6ee"
  },
  {
   "cell_type": "code",
   "execution_count": 23,
   "outputs": [
    {
     "data": {
      "text/plain": "2683.0"
     },
     "execution_count": 23,
     "metadata": {},
     "output_type": "execute_result"
    }
   ],
   "source": [
    "(2875+2491)/2"
   ],
   "metadata": {
    "collapsed": false,
    "ExecuteTime": {
     "end_time": "2023-11-14T04:32:06.795676900Z",
     "start_time": "2023-11-14T04:32:06.790528900Z"
    }
   },
   "id": "add83f4a28ed25ed"
  },
  {
   "cell_type": "code",
   "execution_count": null,
   "outputs": [],
   "source": [],
   "metadata": {
    "collapsed": false
   },
   "id": "87daed7e004425d7"
  }
 ],
 "metadata": {
  "kernelspec": {
   "display_name": "Python 3",
   "language": "python",
   "name": "python3"
  },
  "language_info": {
   "codemirror_mode": {
    "name": "ipython",
    "version": 2
   },
   "file_extension": ".py",
   "mimetype": "text/x-python",
   "name": "python",
   "nbconvert_exporter": "python",
   "pygments_lexer": "ipython2",
   "version": "2.7.6"
  }
 },
 "nbformat": 4,
 "nbformat_minor": 5
}
