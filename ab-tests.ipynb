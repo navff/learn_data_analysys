{
 "cells": [
  {
   "cell_type": "markdown",
   "source": [
    "## Минимальный необходимый размер выборки"
   ],
   "metadata": {
    "collapsed": false
   },
   "id": "854922935d831b0c"
  },
  {
   "cell_type": "code",
   "execution_count": 1,
   "outputs": [
    {
     "name": "stdout",
     "output_type": "stream",
     "text": [
      "n: 17447\n"
     ]
    }
   ],
   "source": [
    "var_control = 2000 # дисперсия контрольной группы\n",
    "var_test = 2000    # дисперсия тестовой группы\n",
    "za_2 = -1.96 # Квантинь стандартного норм. распределения, соответствующий половине вероятности ошибки первого рода\n",
    "zb = -0.842  # 0.2-квантиль стандартного нормального распределения\n",
    "mde = 60     # Минимальный размер эффекта, который мы хотим зафиксировать в рамках AB теста. Здесь 60 рублей\n",
    "\n",
    "#минимальный размер выборки\n",
    "n = ((var_control**2 + var_test**2) * (za_2 + zb)**2)/mde**2\n",
    "n = round(n)\n",
    "print(f'n: {n}')"
   ],
   "metadata": {
    "collapsed": false,
    "ExecuteTime": {
     "end_time": "2023-11-14T13:55:18.179127100Z",
     "start_time": "2023-11-14T13:55:18.173764400Z"
    }
   },
   "id": "initial_id"
  },
  {
   "cell_type": "code",
   "execution_count": 6,
   "outputs": [
    {
     "data": {
      "text/plain": "8.723559999999999"
     },
     "execution_count": 6,
     "metadata": {},
     "output_type": "execute_result"
    }
   ],
   "source": [
    "var_historical = 2000\n",
    "za_2 = -1.96\n",
    "zb = -0.842\n",
    "mde = 60\n",
    "n = ((2*var_historical) * (za_2 + zb)**2)/mde**2\n",
    "n"
   ],
   "metadata": {
    "collapsed": false,
    "ExecuteTime": {
     "end_time": "2023-11-14T14:02:06.620521Z",
     "start_time": "2023-11-14T14:02:06.616649800Z"
    }
   },
   "id": "af1a1b9e467cd96a"
  },
  {
   "cell_type": "code",
   "execution_count": 30,
   "outputs": [
    {
     "data": {
      "text/plain": "0.0475"
     },
     "execution_count": 30,
     "metadata": {},
     "output_type": "execute_result"
    }
   ],
   "source": [
    "p = 0.05\n",
    "var_bernoulli = p*(1-p)\n",
    "var_bernoulli"
   ],
   "metadata": {
    "collapsed": false,
    "ExecuteTime": {
     "end_time": "2023-11-14T06:35:53.572173600Z",
     "start_time": "2023-11-14T06:35:53.568206800Z"
    }
   },
   "id": "87daed7e004425d7"
  },
  {
   "cell_type": "code",
   "execution_count": 26,
   "outputs": [
    {
     "data": {
      "text/plain": "0.03624"
     },
     "execution_count": 26,
     "metadata": {},
     "output_type": "execute_result"
    }
   ],
   "source": [
    "d = (0.0376+0.0352+0.0401+0.0299+0.0384)/5\n",
    "d"
   ],
   "metadata": {
    "collapsed": false,
    "ExecuteTime": {
     "end_time": "2023-11-14T06:06:02.833605Z",
     "start_time": "2023-11-14T06:06:02.829019200Z"
    }
   },
   "id": "9148c385e56c60ab"
  },
  {
   "cell_type": "code",
   "execution_count": 28,
   "outputs": [
    {
     "data": {
      "text/plain": "5.0"
     },
     "execution_count": 28,
     "metadata": {},
     "output_type": "execute_result"
    }
   ],
   "source": [
    "2500 / 50000 * 100"
   ],
   "metadata": {
    "collapsed": false,
    "ExecuteTime": {
     "end_time": "2023-11-14T06:34:06.963748800Z",
     "start_time": "2023-11-14T06:34:06.955278500Z"
    }
   },
   "id": "ba5be37bed157b58"
  }
 ],
 "metadata": {
  "kernelspec": {
   "display_name": "Python 3",
   "language": "python",
   "name": "python3"
  },
  "language_info": {
   "codemirror_mode": {
    "name": "ipython",
    "version": 2
   },
   "file_extension": ".py",
   "mimetype": "text/x-python",
   "name": "python",
   "nbconvert_exporter": "python",
   "pygments_lexer": "ipython2",
   "version": "2.7.6"
  }
 },
 "nbformat": 4,
 "nbformat_minor": 5
}
