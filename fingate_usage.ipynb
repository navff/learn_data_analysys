{
 "cells": [
  {
   "cell_type": "code",
   "execution_count": 2,
   "id": "initial_id",
   "metadata": {
    "collapsed": true,
    "ExecuteTime": {
     "end_time": "2023-12-26T09:21:04.328916100Z",
     "start_time": "2023-12-26T09:21:04.301071600Z"
    }
   },
   "outputs": [
    {
     "name": "stdout",
     "output_type": "stream",
     "text": [
      "Доп. нагрузка в месяц: 10777297 запросов\n"
     ]
    }
   ],
   "source": [
    "month_usage = 281317*20 + 15852*20 + 4649*20 + 330102 + 550290 + 55785 + 83295*10 + 594362*5\n",
    "print(f'Доп. нагрузка в месяц: {month_usage} запросов')"
   ]
  },
  {
   "cell_type": "code",
   "execution_count": 5,
   "outputs": [
    {
     "name": "stdout",
     "output_type": "stream",
     "text": [
      "489877 запросов в день\n",
      "34991 запросов в час\n",
      "10 запросов в секунду\n"
     ]
    }
   ],
   "source": [
    "print(f'{round(month_usage / 22)} запросов в день')\n",
    "print(f'{round(month_usage / 22 / 14)} запросов в час')\n",
    "print(f'{round(month_usage / 22 / 14 / 60 / 60) } запросов в секунду')"
   ],
   "metadata": {
    "collapsed": false,
    "ExecuteTime": {
     "end_time": "2023-12-26T09:27:27.015775700Z",
     "start_time": "2023-12-26T09:27:27.010958Z"
    }
   },
   "id": "21c0f81b77eb0e8c"
  },
  {
   "cell_type": "code",
   "execution_count": 2,
   "outputs": [
    {
     "data": {
      "text/plain": "17.5"
     },
     "execution_count": 2,
     "metadata": {},
     "output_type": "execute_result"
    }
   ],
   "source": [
    "import pandas as pd\n",
    "\n",
    "jirafs = { 'Pigments':  [10, 20, 10, 5, 10, 50] }\n",
    "\n",
    "jirafs_df = pd.DataFrame(jirafs, columns= ['Pigments'])\n",
    "jirafs_df['Pigments'].mean()"
   ],
   "metadata": {
    "collapsed": false,
    "ExecuteTime": {
     "end_time": "2024-01-06T03:05:09.056577600Z",
     "start_time": "2024-01-06T03:05:09.046805300Z"
    }
   },
   "id": "f5b219dfc38e373a"
  }
 ],
 "metadata": {
  "kernelspec": {
   "display_name": "Python 3",
   "language": "python",
   "name": "python3"
  },
  "language_info": {
   "codemirror_mode": {
    "name": "ipython",
    "version": 2
   },
   "file_extension": ".py",
   "mimetype": "text/x-python",
   "name": "python",
   "nbconvert_exporter": "python",
   "pygments_lexer": "ipython2",
   "version": "2.7.6"
  }
 },
 "nbformat": 4,
 "nbformat_minor": 5
}
