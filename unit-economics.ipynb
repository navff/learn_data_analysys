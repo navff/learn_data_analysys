{
 "cells": [
  {
   "cell_type": "code",
   "execution_count": 1,
   "id": "initial_id",
   "metadata": {
    "collapsed": true,
    "ExecuteTime": {
     "end_time": "2023-11-14T14:00:45.008319900Z",
     "start_time": "2023-11-14T14:00:45.008319900Z"
    }
   },
   "outputs": [
    {
     "name": "stdout",
     "output_type": "stream",
     "text": [
      "arpu: 3500.0\n",
      "arppu: 5000.0\n",
      "aov: 1750.0\n"
     ]
    }
   ],
   "source": [
    "orders = 20 # Количество заказов\n",
    "revenue = 35000         # Выручка\n",
    "\n",
    "arpu = revenue / 10     # Выручка на пользователя\n",
    "print(f'arpu: {arpu}')\n",
    "\n",
    "arppu = revenue / 7     # Выручка на платящего пользователя\n",
    "print(f'arppu: {arppu}')\n",
    "\n",
    "aov = revenue / orders  # Average Order Value (средний чек)\n",
    "print(f'aov: {aov}')"
   ]
  }
 ],
 "metadata": {
  "kernelspec": {
   "display_name": "Python 3",
   "language": "python",
   "name": "python3"
  },
  "language_info": {
   "codemirror_mode": {
    "name": "ipython",
    "version": 2
   },
   "file_extension": ".py",
   "mimetype": "text/x-python",
   "name": "python",
   "nbconvert_exporter": "python",
   "pygments_lexer": "ipython2",
   "version": "2.7.6"
  }
 },
 "nbformat": 4,
 "nbformat_minor": 5
}
