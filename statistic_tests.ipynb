{
 "cells": [
  {
   "cell_type": "code",
   "execution_count": 174,
   "id": "initial_id",
   "metadata": {
    "collapsed": true,
    "ExecuteTime": {
     "end_time": "2023-10-25T04:22:15.250873700Z",
     "start_time": "2023-10-25T04:22:15.201023100Z"
    }
   },
   "outputs": [],
   "source": [
    "from pandas import DataFrame\n",
    "import pandas as pd"
   ]
  },
  {
   "cell_type": "code",
   "execution_count": 175,
   "outputs": [
    {
     "data": {
      "text/plain": "10"
     },
     "execution_count": 175,
     "metadata": {},
     "output_type": "execute_result"
    }
   ],
   "source": [
    "jirafs = { 'Pigments':  [260, 255, 270, 260, 265, 270, 260, 255, 265, 260],\n",
    "           'Selection': [1,   2,   3,   4,   5,   6,   7,   8,   9,   10]\n",
    "         } \n",
    "\n",
    "jirafs_df = DataFrame(jirafs, columns= ['Pigments', 'Selection'])\n",
    "k = len(jirafs_df['Pigments'])\n",
    "k"
   ],
   "metadata": {
    "collapsed": false,
    "ExecuteTime": {
     "end_time": "2023-10-25T04:22:15.413056800Z",
     "start_time": "2023-10-25T04:22:15.215561200Z"
    }
   },
   "id": "47f61c6d545e7e9f"
  },
  {
   "cell_type": "code",
   "execution_count": 176,
   "outputs": [
    {
     "data": {
      "text/plain": "262.0"
     },
     "execution_count": 176,
     "metadata": {},
     "output_type": "execute_result"
    }
   ],
   "source": [
    "mean = jirafs_df['Pigments'].mean()\n",
    "mean"
   ],
   "metadata": {
    "collapsed": false,
    "ExecuteTime": {
     "end_time": "2023-10-25T04:22:15.413056800Z",
     "start_time": "2023-10-25T04:22:15.231135900Z"
    }
   },
   "id": "f6e633bb7886b336"
  },
  {
   "cell_type": "code",
   "execution_count": 177,
   "outputs": [
    {
     "data": {
      "text/plain": "   Pigments  Selection  Отклонение²\n0       260          1          4.0\n1       255          2         49.0\n2       270          3         64.0\n3       260          4          4.0\n4       265          5          9.0\n5       270          6         64.0\n6       260          7          4.0\n7       255          8         49.0\n8       265          9          9.0\n9       260         10          4.0",
      "text/html": "<div>\n<style scoped>\n    .dataframe tbody tr th:only-of-type {\n        vertical-align: middle;\n    }\n\n    .dataframe tbody tr th {\n        vertical-align: top;\n    }\n\n    .dataframe thead th {\n        text-align: right;\n    }\n</style>\n<table border=\"1\" class=\"dataframe\">\n  <thead>\n    <tr style=\"text-align: right;\">\n      <th></th>\n      <th>Pigments</th>\n      <th>Selection</th>\n      <th>Отклонение²</th>\n    </tr>\n  </thead>\n  <tbody>\n    <tr>\n      <th>0</th>\n      <td>260</td>\n      <td>1</td>\n      <td>4.0</td>\n    </tr>\n    <tr>\n      <th>1</th>\n      <td>255</td>\n      <td>2</td>\n      <td>49.0</td>\n    </tr>\n    <tr>\n      <th>2</th>\n      <td>270</td>\n      <td>3</td>\n      <td>64.0</td>\n    </tr>\n    <tr>\n      <th>3</th>\n      <td>260</td>\n      <td>4</td>\n      <td>4.0</td>\n    </tr>\n    <tr>\n      <th>4</th>\n      <td>265</td>\n      <td>5</td>\n      <td>9.0</td>\n    </tr>\n    <tr>\n      <th>5</th>\n      <td>270</td>\n      <td>6</td>\n      <td>64.0</td>\n    </tr>\n    <tr>\n      <th>6</th>\n      <td>260</td>\n      <td>7</td>\n      <td>4.0</td>\n    </tr>\n    <tr>\n      <th>7</th>\n      <td>255</td>\n      <td>8</td>\n      <td>49.0</td>\n    </tr>\n    <tr>\n      <th>8</th>\n      <td>265</td>\n      <td>9</td>\n      <td>9.0</td>\n    </tr>\n    <tr>\n      <th>9</th>\n      <td>260</td>\n      <td>10</td>\n      <td>4.0</td>\n    </tr>\n  </tbody>\n</table>\n</div>"
     },
     "execution_count": 177,
     "metadata": {},
     "output_type": "execute_result"
    }
   ],
   "source": [
    "jirafs_df['Отклонение²'] = (jirafs_df['Pigments'] - mean)**2\n",
    "jirafs_df"
   ],
   "metadata": {
    "collapsed": false,
    "ExecuteTime": {
     "end_time": "2023-10-25T04:22:15.414949100Z",
     "start_time": "2023-10-25T04:22:15.239893300Z"
    }
   },
   "id": "47ef31abdc4dd9bf"
  },
  {
   "cell_type": "code",
   "execution_count": 178,
   "outputs": [
    {
     "data": {
      "text/plain": "28.888888888888886"
     },
     "execution_count": 178,
     "metadata": {},
     "output_type": "execute_result"
    }
   ],
   "source": [
    "dispersion = (1 / (k - 1)) * (jirafs_df['Отклонение²'].sum())\n",
    "dispersion"
   ],
   "metadata": {
    "collapsed": false,
    "ExecuteTime": {
     "end_time": "2023-10-25T04:22:15.415948900Z",
     "start_time": "2023-10-25T04:22:15.256502Z"
    }
   },
   "id": "5d914426d16d804"
  },
  {
   "cell_type": "code",
   "execution_count": 179,
   "outputs": [
    {
     "data": {
      "text/plain": "5.374838498865699"
     },
     "execution_count": 179,
     "metadata": {},
     "output_type": "execute_result"
    }
   ],
   "source": [
    "s_otkl = dispersion**0.5\n",
    "s_otkl"
   ],
   "metadata": {
    "collapsed": false,
    "ExecuteTime": {
     "end_time": "2023-10-25T04:22:15.415948900Z",
     "start_time": "2023-10-25T04:22:15.272031400Z"
    }
   },
   "id": "4df9e5d62f0fa6b1"
  },
  {
   "cell_type": "markdown",
   "source": [
    "## Стандартная ошибка среднего"
   ],
   "metadata": {
    "collapsed": false
   },
   "id": "ca7ee7fa06bb9a6"
  },
  {
   "cell_type": "code",
   "execution_count": 180,
   "outputs": [
    {
     "data": {
      "text/plain": "14.433756729740645"
     },
     "execution_count": 180,
     "metadata": {},
     "output_type": "execute_result"
    }
   ],
   "source": [
    "50 / 12**0.5"
   ],
   "metadata": {
    "collapsed": false,
    "ExecuteTime": {
     "end_time": "2023-10-25T04:22:15.416949200Z",
     "start_time": "2023-10-25T04:22:15.281814400Z"
    }
   },
   "id": "7f361baac0ba95c6"
  },
  {
   "cell_type": "code",
   "execution_count": 181,
   "outputs": [
    {
     "data": {
      "text/plain": "   Pollution\n0         46\n1         37\n2         51\n3         47\n4         42\n5         39\n6         43\n7         46\n8         45",
      "text/html": "<div>\n<style scoped>\n    .dataframe tbody tr th:only-of-type {\n        vertical-align: middle;\n    }\n\n    .dataframe tbody tr th {\n        vertical-align: top;\n    }\n\n    .dataframe thead th {\n        text-align: right;\n    }\n</style>\n<table border=\"1\" class=\"dataframe\">\n  <thead>\n    <tr style=\"text-align: right;\">\n      <th></th>\n      <th>Pollution</th>\n    </tr>\n  </thead>\n  <tbody>\n    <tr>\n      <th>0</th>\n      <td>46</td>\n    </tr>\n    <tr>\n      <th>1</th>\n      <td>37</td>\n    </tr>\n    <tr>\n      <th>2</th>\n      <td>51</td>\n    </tr>\n    <tr>\n      <th>3</th>\n      <td>47</td>\n    </tr>\n    <tr>\n      <th>4</th>\n      <td>42</td>\n    </tr>\n    <tr>\n      <th>5</th>\n      <td>39</td>\n    </tr>\n    <tr>\n      <th>6</th>\n      <td>43</td>\n    </tr>\n    <tr>\n      <th>7</th>\n      <td>46</td>\n    </tr>\n    <tr>\n      <th>8</th>\n      <td>45</td>\n    </tr>\n  </tbody>\n</table>\n</div>"
     },
     "execution_count": 181,
     "metadata": {},
     "output_type": "execute_result"
    }
   ],
   "source": [
    "pollution = { 'Pollution':  [46, 37, 51, 47, 42, 39, 43, 46, 45]  } \n",
    "pollution_df = DataFrame(pollution, columns = ['Pollution'])\n",
    "pollution_df"
   ],
   "metadata": {
    "collapsed": false,
    "ExecuteTime": {
     "end_time": "2023-10-25T04:22:15.428944600Z",
     "start_time": "2023-10-25T04:22:15.294017600Z"
    }
   },
   "id": "e44cc1bd67a068cf"
  },
  {
   "cell_type": "code",
   "execution_count": 182,
   "outputs": [
    {
     "data": {
      "text/plain": "44.0"
     },
     "execution_count": 182,
     "metadata": {},
     "output_type": "execute_result"
    }
   ],
   "source": [
    "pollution_mean = pollution_df['Pollution'].mean()\n",
    "pollution_mean"
   ],
   "metadata": {
    "collapsed": false,
    "ExecuteTime": {
     "end_time": "2023-10-25T04:22:15.428944600Z",
     "start_time": "2023-10-25T04:22:15.308484400Z"
    }
   },
   "id": "82563b571c01aa45"
  },
  {
   "cell_type": "code",
   "execution_count": 183,
   "outputs": [
    {
     "data": {
      "text/plain": "9"
     },
     "execution_count": 183,
     "metadata": {},
     "output_type": "execute_result"
    }
   ],
   "source": [
    "s_otkl_pollution = 5\n",
    "n = len(pollution_df['Pollution'])\n",
    "n"
   ],
   "metadata": {
    "collapsed": false,
    "ExecuteTime": {
     "end_time": "2023-10-25T04:22:15.429952500Z",
     "start_time": "2023-10-25T04:22:15.319238700Z"
    }
   },
   "id": "233f35734aa30fd3"
  },
  {
   "cell_type": "code",
   "execution_count": 184,
   "outputs": [
    {
     "data": {
      "text/plain": "1.6666666666666667"
     },
     "execution_count": 184,
     "metadata": {},
     "output_type": "execute_result"
    }
   ],
   "source": [
    "s_error_pollution = s_otkl_pollution / (n**0.5)\n",
    "s_error_pollution"
   ],
   "metadata": {
    "collapsed": false,
    "ExecuteTime": {
     "end_time": "2023-10-25T04:22:15.429952500Z",
     "start_time": "2023-10-25T04:22:15.330212900Z"
    }
   },
   "id": "a01d71468f71cc1b"
  },
  {
   "cell_type": "code",
   "execution_count": 185,
   "outputs": [
    {
     "data": {
      "text/plain": "   Pollution  Otkl²\n0         46    4.0\n1         37   49.0\n2         51   49.0\n3         47    9.0\n4         42    4.0\n5         39   25.0\n6         43    1.0\n7         46    4.0\n8         45    1.0",
      "text/html": "<div>\n<style scoped>\n    .dataframe tbody tr th:only-of-type {\n        vertical-align: middle;\n    }\n\n    .dataframe tbody tr th {\n        vertical-align: top;\n    }\n\n    .dataframe thead th {\n        text-align: right;\n    }\n</style>\n<table border=\"1\" class=\"dataframe\">\n  <thead>\n    <tr style=\"text-align: right;\">\n      <th></th>\n      <th>Pollution</th>\n      <th>Otkl²</th>\n    </tr>\n  </thead>\n  <tbody>\n    <tr>\n      <th>0</th>\n      <td>46</td>\n      <td>4.0</td>\n    </tr>\n    <tr>\n      <th>1</th>\n      <td>37</td>\n      <td>49.0</td>\n    </tr>\n    <tr>\n      <th>2</th>\n      <td>51</td>\n      <td>49.0</td>\n    </tr>\n    <tr>\n      <th>3</th>\n      <td>47</td>\n      <td>9.0</td>\n    </tr>\n    <tr>\n      <th>4</th>\n      <td>42</td>\n      <td>4.0</td>\n    </tr>\n    <tr>\n      <th>5</th>\n      <td>39</td>\n      <td>25.0</td>\n    </tr>\n    <tr>\n      <th>6</th>\n      <td>43</td>\n      <td>1.0</td>\n    </tr>\n    <tr>\n      <th>7</th>\n      <td>46</td>\n      <td>4.0</td>\n    </tr>\n    <tr>\n      <th>8</th>\n      <td>45</td>\n      <td>1.0</td>\n    </tr>\n  </tbody>\n</table>\n</div>"
     },
     "execution_count": 185,
     "metadata": {},
     "output_type": "execute_result"
    }
   ],
   "source": [
    "pollution_df['Otkl²'] = (pollution_df['Pollution'] - pollution_mean)**2 \n",
    "pollution_df"
   ],
   "metadata": {
    "collapsed": false,
    "ExecuteTime": {
     "end_time": "2023-10-25T04:22:15.430933700Z",
     "start_time": "2023-10-25T04:22:15.340864700Z"
    }
   },
   "id": "31b7694b1f60b314"
  },
  {
   "cell_type": "code",
   "execution_count": 186,
   "outputs": [
    {
     "data": {
      "text/plain": "4.272001872658765"
     },
     "execution_count": 186,
     "metadata": {},
     "output_type": "execute_result"
    }
   ],
   "source": [
    "s_otkl_pollution = (pollution_df['Otkl²'].sum() / (n-1))**0.5\n",
    "s_otkl_pollution"
   ],
   "metadata": {
    "collapsed": false,
    "ExecuteTime": {
     "end_time": "2023-10-25T04:22:15.431933400Z",
     "start_time": "2023-10-25T04:22:15.355667800Z"
    }
   },
   "id": "8270bad5ec65b7f8"
  },
  {
   "cell_type": "code",
   "execution_count": 187,
   "outputs": [],
   "source": [
    "x = 40\n",
    "m = 36\n",
    "sigma = 10\n",
    "n = 64"
   ],
   "metadata": {
    "collapsed": false,
    "ExecuteTime": {
     "end_time": "2023-10-25T04:22:15.431933400Z",
     "start_time": "2023-10-25T04:22:15.372257700Z"
    }
   },
   "id": "da2bda4fcd9be669"
  },
  {
   "cell_type": "code",
   "execution_count": 188,
   "outputs": [
    {
     "data": {
      "text/plain": "3.2"
     },
     "execution_count": 188,
     "metadata": {},
     "output_type": "execute_result"
    }
   ],
   "source": [
    "\n",
    "z = (x - m) / ( sigma / n**0.5 )\n",
    "z"
   ],
   "metadata": {
    "collapsed": false,
    "ExecuteTime": {
     "end_time": "2023-10-25T04:22:15.431933400Z",
     "start_time": "2023-10-25T04:22:15.378495Z"
    }
   },
   "id": "df6c77567349b097"
  }
 ],
 "metadata": {
  "kernelspec": {
   "display_name": "Python 3",
   "language": "python",
   "name": "python3"
  },
  "language_info": {
   "codemirror_mode": {
    "name": "ipython",
    "version": 2
   },
   "file_extension": ".py",
   "mimetype": "text/x-python",
   "name": "python",
   "nbconvert_exporter": "python",
   "pygments_lexer": "ipython2",
   "version": "2.7.6"
  }
 },
 "nbformat": 4,
 "nbformat_minor": 5
}
