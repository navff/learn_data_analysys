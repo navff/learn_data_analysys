{
 "cells": [
  {
   "cell_type": "code",
   "execution_count": 122,
   "id": "initial_id",
   "metadata": {
    "collapsed": true,
    "ExecuteTime": {
     "end_time": "2023-11-12T08:48:27.229265800Z",
     "start_time": "2023-11-12T08:48:27.163423Z"
    }
   },
   "outputs": [],
   "source": [
    "from pandas import DataFrame\n",
    "import pandas as pd"
   ]
  },
  {
   "cell_type": "code",
   "execution_count": 123,
   "outputs": [
    {
     "data": {
      "text/plain": "10"
     },
     "execution_count": 123,
     "metadata": {},
     "output_type": "execute_result"
    }
   ],
   "source": [
    "jirafs = { 'Pigments':  [260, 255, 270, 260, 265, 270, 260, 255, 265, 260],\n",
    "           'Selection': [1,   2,   3,   4,   5,   6,   7,   8,   9,   10]\n",
    "         } \n",
    "\n",
    "jirafs_df = DataFrame(jirafs, columns= ['Pigments', 'Selection'])\n",
    "k = len(jirafs_df['Pigments'])\n",
    "k"
   ],
   "metadata": {
    "collapsed": false,
    "ExecuteTime": {
     "end_time": "2023-11-12T08:48:27.242138200Z",
     "start_time": "2023-11-12T08:48:27.169723900Z"
    }
   },
   "id": "47f61c6d545e7e9f"
  },
  {
   "cell_type": "code",
   "execution_count": 124,
   "outputs": [
    {
     "data": {
      "text/plain": "262.0"
     },
     "execution_count": 124,
     "metadata": {},
     "output_type": "execute_result"
    }
   ],
   "source": [
    "mean = jirafs_df['Pigments'].mean()\n",
    "mean"
   ],
   "metadata": {
    "collapsed": false,
    "ExecuteTime": {
     "end_time": "2023-11-12T08:48:27.342321100Z",
     "start_time": "2023-11-12T08:48:27.177903800Z"
    }
   },
   "id": "f6e633bb7886b336"
  },
  {
   "cell_type": "code",
   "execution_count": 125,
   "outputs": [
    {
     "data": {
      "text/plain": "   Pigments  Selection  Отклонение²\n0       260          1          4.0\n1       255          2         49.0\n2       270          3         64.0\n3       260          4          4.0\n4       265          5          9.0\n5       270          6         64.0\n6       260          7          4.0\n7       255          8         49.0\n8       265          9          9.0\n9       260         10          4.0",
      "text/html": "<div>\n<style scoped>\n    .dataframe tbody tr th:only-of-type {\n        vertical-align: middle;\n    }\n\n    .dataframe tbody tr th {\n        vertical-align: top;\n    }\n\n    .dataframe thead th {\n        text-align: right;\n    }\n</style>\n<table border=\"1\" class=\"dataframe\">\n  <thead>\n    <tr style=\"text-align: right;\">\n      <th></th>\n      <th>Pigments</th>\n      <th>Selection</th>\n      <th>Отклонение²</th>\n    </tr>\n  </thead>\n  <tbody>\n    <tr>\n      <th>0</th>\n      <td>260</td>\n      <td>1</td>\n      <td>4.0</td>\n    </tr>\n    <tr>\n      <th>1</th>\n      <td>255</td>\n      <td>2</td>\n      <td>49.0</td>\n    </tr>\n    <tr>\n      <th>2</th>\n      <td>270</td>\n      <td>3</td>\n      <td>64.0</td>\n    </tr>\n    <tr>\n      <th>3</th>\n      <td>260</td>\n      <td>4</td>\n      <td>4.0</td>\n    </tr>\n    <tr>\n      <th>4</th>\n      <td>265</td>\n      <td>5</td>\n      <td>9.0</td>\n    </tr>\n    <tr>\n      <th>5</th>\n      <td>270</td>\n      <td>6</td>\n      <td>64.0</td>\n    </tr>\n    <tr>\n      <th>6</th>\n      <td>260</td>\n      <td>7</td>\n      <td>4.0</td>\n    </tr>\n    <tr>\n      <th>7</th>\n      <td>255</td>\n      <td>8</td>\n      <td>49.0</td>\n    </tr>\n    <tr>\n      <th>8</th>\n      <td>265</td>\n      <td>9</td>\n      <td>9.0</td>\n    </tr>\n    <tr>\n      <th>9</th>\n      <td>260</td>\n      <td>10</td>\n      <td>4.0</td>\n    </tr>\n  </tbody>\n</table>\n</div>"
     },
     "execution_count": 125,
     "metadata": {},
     "output_type": "execute_result"
    }
   ],
   "source": [
    "jirafs_df['Отклонение²'] = (jirafs_df['Pigments'] - mean)**2\n",
    "jirafs_df"
   ],
   "metadata": {
    "collapsed": false,
    "ExecuteTime": {
     "end_time": "2023-11-12T08:48:27.343317500Z",
     "start_time": "2023-11-12T08:48:27.184427500Z"
    }
   },
   "id": "47ef31abdc4dd9bf"
  },
  {
   "cell_type": "code",
   "execution_count": 126,
   "outputs": [
    {
     "data": {
      "text/plain": "28.888888888888886"
     },
     "execution_count": 126,
     "metadata": {},
     "output_type": "execute_result"
    }
   ],
   "source": [
    "dispersion = (1 / (k - 1)) * (jirafs_df['Отклонение²'].sum())\n",
    "dispersion"
   ],
   "metadata": {
    "collapsed": false,
    "ExecuteTime": {
     "end_time": "2023-11-12T08:48:27.343317500Z",
     "start_time": "2023-11-12T08:48:27.195569600Z"
    }
   },
   "id": "5d914426d16d804"
  },
  {
   "cell_type": "code",
   "execution_count": 127,
   "outputs": [
    {
     "data": {
      "text/plain": "5.374838498865699"
     },
     "execution_count": 127,
     "metadata": {},
     "output_type": "execute_result"
    }
   ],
   "source": [
    "s_otkl = dispersion**0.5\n",
    "s_otkl"
   ],
   "metadata": {
    "collapsed": false,
    "ExecuteTime": {
     "end_time": "2023-11-12T08:48:27.344317700Z",
     "start_time": "2023-11-12T08:48:27.202339300Z"
    }
   },
   "id": "4df9e5d62f0fa6b1"
  },
  {
   "cell_type": "markdown",
   "source": [
    "## Стандартная ошибка среднего"
   ],
   "metadata": {
    "collapsed": false
   },
   "id": "ca7ee7fa06bb9a6"
  },
  {
   "cell_type": "code",
   "execution_count": 128,
   "outputs": [
    {
     "data": {
      "text/plain": "11.785113019775793"
     },
     "execution_count": 128,
     "metadata": {},
     "output_type": "execute_result"
    }
   ],
   "source": [
    "50 / 18**0.5"
   ],
   "metadata": {
    "collapsed": false,
    "ExecuteTime": {
     "end_time": "2023-11-12T08:48:27.344317700Z",
     "start_time": "2023-11-12T08:48:27.210888500Z"
    }
   },
   "id": "7f361baac0ba95c6"
  },
  {
   "cell_type": "code",
   "execution_count": 129,
   "outputs": [
    {
     "data": {
      "text/plain": "   Pollution\n0         46\n1         37\n2         51\n3         47\n4         42\n5         39\n6         43\n7         46\n8         45",
      "text/html": "<div>\n<style scoped>\n    .dataframe tbody tr th:only-of-type {\n        vertical-align: middle;\n    }\n\n    .dataframe tbody tr th {\n        vertical-align: top;\n    }\n\n    .dataframe thead th {\n        text-align: right;\n    }\n</style>\n<table border=\"1\" class=\"dataframe\">\n  <thead>\n    <tr style=\"text-align: right;\">\n      <th></th>\n      <th>Pollution</th>\n    </tr>\n  </thead>\n  <tbody>\n    <tr>\n      <th>0</th>\n      <td>46</td>\n    </tr>\n    <tr>\n      <th>1</th>\n      <td>37</td>\n    </tr>\n    <tr>\n      <th>2</th>\n      <td>51</td>\n    </tr>\n    <tr>\n      <th>3</th>\n      <td>47</td>\n    </tr>\n    <tr>\n      <th>4</th>\n      <td>42</td>\n    </tr>\n    <tr>\n      <th>5</th>\n      <td>39</td>\n    </tr>\n    <tr>\n      <th>6</th>\n      <td>43</td>\n    </tr>\n    <tr>\n      <th>7</th>\n      <td>46</td>\n    </tr>\n    <tr>\n      <th>8</th>\n      <td>45</td>\n    </tr>\n  </tbody>\n</table>\n</div>"
     },
     "execution_count": 129,
     "metadata": {},
     "output_type": "execute_result"
    }
   ],
   "source": [
    "pollution = { 'Pollution':  [46, 37, 51, 47, 42, 39, 43, 46, 45]  } \n",
    "pollution_df = DataFrame(pollution, columns = ['Pollution'])\n",
    "pollution_df"
   ],
   "metadata": {
    "collapsed": false,
    "ExecuteTime": {
     "end_time": "2023-11-12T08:48:27.345310900Z",
     "start_time": "2023-11-12T08:48:27.215075500Z"
    }
   },
   "id": "e44cc1bd67a068cf"
  },
  {
   "cell_type": "code",
   "execution_count": 130,
   "outputs": [
    {
     "data": {
      "text/plain": "44.0"
     },
     "execution_count": 130,
     "metadata": {},
     "output_type": "execute_result"
    }
   ],
   "source": [
    "pollution_mean = pollution_df['Pollution'].mean()\n",
    "pollution_mean"
   ],
   "metadata": {
    "collapsed": false,
    "ExecuteTime": {
     "end_time": "2023-11-12T08:48:27.345310900Z",
     "start_time": "2023-11-12T08:48:27.224066500Z"
    }
   },
   "id": "82563b571c01aa45"
  },
  {
   "cell_type": "code",
   "execution_count": 131,
   "outputs": [
    {
     "data": {
      "text/plain": "9"
     },
     "execution_count": 131,
     "metadata": {},
     "output_type": "execute_result"
    }
   ],
   "source": [
    "s_otkl_pollution = 5\n",
    "n = len(pollution_df['Pollution'])\n",
    "n"
   ],
   "metadata": {
    "collapsed": false,
    "ExecuteTime": {
     "end_time": "2023-11-12T08:48:27.346324500Z",
     "start_time": "2023-11-12T08:48:27.231368700Z"
    }
   },
   "id": "233f35734aa30fd3"
  },
  {
   "cell_type": "code",
   "execution_count": 132,
   "outputs": [
    {
     "data": {
      "text/plain": "1.6666666666666667"
     },
     "execution_count": 132,
     "metadata": {},
     "output_type": "execute_result"
    }
   ],
   "source": [
    "s_error_pollution = s_otkl_pollution / (n**0.5)\n",
    "s_error_pollution"
   ],
   "metadata": {
    "collapsed": false,
    "ExecuteTime": {
     "end_time": "2023-11-12T08:48:27.347325100Z",
     "start_time": "2023-11-12T08:48:27.233876400Z"
    }
   },
   "id": "a01d71468f71cc1b"
  },
  {
   "cell_type": "code",
   "execution_count": 133,
   "outputs": [
    {
     "data": {
      "text/plain": "   Pollution  Otkl²\n0         46    4.0\n1         37   49.0\n2         51   49.0\n3         47    9.0\n4         42    4.0\n5         39   25.0\n6         43    1.0\n7         46    4.0\n8         45    1.0",
      "text/html": "<div>\n<style scoped>\n    .dataframe tbody tr th:only-of-type {\n        vertical-align: middle;\n    }\n\n    .dataframe tbody tr th {\n        vertical-align: top;\n    }\n\n    .dataframe thead th {\n        text-align: right;\n    }\n</style>\n<table border=\"1\" class=\"dataframe\">\n  <thead>\n    <tr style=\"text-align: right;\">\n      <th></th>\n      <th>Pollution</th>\n      <th>Otkl²</th>\n    </tr>\n  </thead>\n  <tbody>\n    <tr>\n      <th>0</th>\n      <td>46</td>\n      <td>4.0</td>\n    </tr>\n    <tr>\n      <th>1</th>\n      <td>37</td>\n      <td>49.0</td>\n    </tr>\n    <tr>\n      <th>2</th>\n      <td>51</td>\n      <td>49.0</td>\n    </tr>\n    <tr>\n      <th>3</th>\n      <td>47</td>\n      <td>9.0</td>\n    </tr>\n    <tr>\n      <th>4</th>\n      <td>42</td>\n      <td>4.0</td>\n    </tr>\n    <tr>\n      <th>5</th>\n      <td>39</td>\n      <td>25.0</td>\n    </tr>\n    <tr>\n      <th>6</th>\n      <td>43</td>\n      <td>1.0</td>\n    </tr>\n    <tr>\n      <th>7</th>\n      <td>46</td>\n      <td>4.0</td>\n    </tr>\n    <tr>\n      <th>8</th>\n      <td>45</td>\n      <td>1.0</td>\n    </tr>\n  </tbody>\n</table>\n</div>"
     },
     "execution_count": 133,
     "metadata": {},
     "output_type": "execute_result"
    }
   ],
   "source": [
    "pollution_df['Otkl²'] = (pollution_df['Pollution'] - pollution_mean)**2 \n",
    "pollution_df"
   ],
   "metadata": {
    "collapsed": false,
    "ExecuteTime": {
     "end_time": "2023-11-12T08:48:27.361322800Z",
     "start_time": "2023-11-12T08:48:27.241125300Z"
    }
   },
   "id": "31b7694b1f60b314"
  },
  {
   "cell_type": "code",
   "execution_count": 134,
   "outputs": [
    {
     "data": {
      "text/plain": "4.272001872658765"
     },
     "execution_count": 134,
     "metadata": {},
     "output_type": "execute_result"
    }
   ],
   "source": [
    "s_otkl_pollution = (pollution_df['Otkl²'].sum() / (n-1))**0.5\n",
    "s_otkl_pollution"
   ],
   "metadata": {
    "collapsed": false,
    "ExecuteTime": {
     "end_time": "2023-11-12T08:48:27.362319300Z",
     "start_time": "2023-11-12T08:48:27.250104100Z"
    }
   },
   "id": "8270bad5ec65b7f8"
  },
  {
   "cell_type": "code",
   "execution_count": 135,
   "outputs": [],
   "source": [
    "x = 77\n",
    "m = 67\n",
    "sigma = 24\n",
    "n = 64"
   ],
   "metadata": {
    "collapsed": false,
    "ExecuteTime": {
     "end_time": "2023-11-12T08:48:27.362319300Z",
     "start_time": "2023-11-12T08:48:27.259034300Z"
    }
   },
   "id": "da2bda4fcd9be669"
  },
  {
   "cell_type": "code",
   "execution_count": 136,
   "outputs": [
    {
     "data": {
      "text/plain": "3.3333333333333335"
     },
     "execution_count": 136,
     "metadata": {},
     "output_type": "execute_result"
    }
   ],
   "source": [
    "\n",
    "z = (x - m) / ( sigma / n**0.5 )\n",
    "z"
   ],
   "metadata": {
    "collapsed": false,
    "ExecuteTime": {
     "end_time": "2023-11-12T08:48:27.362319300Z",
     "start_time": "2023-11-12T08:48:27.263545200Z"
    }
   },
   "id": "df6c77567349b097"
  },
  {
   "cell_type": "markdown",
   "source": [
    "## p-Value"
   ],
   "metadata": {
    "collapsed": false
   },
   "id": "8c1d2ab99455d9f9"
  },
  {
   "cell_type": "code",
   "execution_count": 137,
   "outputs": [
    {
     "name": "stdout",
     "output_type": "stream",
     "text": [
      "ese: 0.21\n",
      "t: 1.43\n",
      "df: 49\n"
     ]
    }
   ],
   "source": [
    "x = 15.3 # среднее значение\n",
    "m = 15   # предполагаемое значение\n",
    "sx = 1.5 # среднее отклонение\n",
    "n = 50   # количество измерений\n",
    "a = 0.05 # уровень значимости\n",
    "\n",
    "ese = sx / (n**0.5)\n",
    "ese = round(ese, 2)\n",
    "print(f'ese: {ese}')\n",
    "t = (x - m) / ese\n",
    "t = round(t, 2)\n",
    "df = n-1\n",
    "print(f't: {t}')\n",
    "print(f'df: {df}')"
   ],
   "metadata": {
    "collapsed": false,
    "ExecuteTime": {
     "end_time": "2023-11-12T08:48:27.363318300Z",
     "start_time": "2023-11-12T08:48:27.269146200Z"
    }
   },
   "id": "2b967b87f6e1e879"
  },
  {
   "cell_type": "code",
   "execution_count": 138,
   "outputs": [
    {
     "name": "stdout",
     "output_type": "stream",
     "text": [
      "9\n",
      "44.0\n",
      "   Pigments  Selection  Отклонение²\n",
      "0        46          1          4.0\n",
      "1        37          2         49.0\n",
      "2        51          3         49.0\n",
      "3        47          4          9.0\n",
      "4        42          5          4.0\n",
      "5        39          6         25.0\n",
      "6        43          7          1.0\n",
      "7        46          8          4.0\n",
      "8        45          9          1.0\n"
     ]
    }
   ],
   "source": [
    "jirafs = {'Pigments': [46, 37, 51, 47, 42, 39, 43, 46, 45],\n",
    "          'Selection':[ 1,  2,  3,  4,  5,  6,  7,  8,  9]\n",
    "          }\n",
    "\n",
    "jirafs_df = DataFrame(jirafs, columns=['Pigments', 'Selection'])\n",
    "k = len(jirafs_df['Pigments'])\n",
    "print (k)\n",
    "mean = jirafs_df['Pigments'].mean()\n",
    "print(mean)\n",
    "jirafs_df['Отклонение²'] = (jirafs_df['Pigments'] - mean) ** 2\n",
    "print(jirafs_df)"
   ],
   "metadata": {
    "collapsed": false,
    "ExecuteTime": {
     "end_time": "2023-11-12T08:48:27.363318300Z",
     "start_time": "2023-11-12T08:48:27.274794600Z"
    }
   },
   "id": "10f6ddfe80a5ed4d"
  },
  {
   "cell_type": "code",
   "execution_count": 139,
   "outputs": [
    {
     "name": "stdout",
     "output_type": "stream",
     "text": [
      "18.25\n",
      "4.272001872658765\n"
     ]
    }
   ],
   "source": [
    "dispersion = (1 / (k - 1)) * (jirafs_df['Отклонение²'].sum())\n",
    "print(dispersion)\n",
    "s_otkl = dispersion ** 0.5\n",
    "print(s_otkl)"
   ],
   "metadata": {
    "collapsed": false,
    "ExecuteTime": {
     "end_time": "2023-11-12T08:48:27.363318300Z",
     "start_time": "2023-11-12T08:48:27.285208700Z"
    }
   },
   "id": "22b910f2d58fa939"
  },
  {
   "cell_type": "code",
   "execution_count": 140,
   "outputs": [
    {
     "name": "stdout",
     "output_type": "stream",
     "text": [
      "ese: 1.4240006242195884\n",
      "t: 28.79212221024812\n",
      "df: 8\n"
     ]
    },
    {
     "data": {
      "text/plain": "39"
     },
     "execution_count": 140,
     "metadata": {},
     "output_type": "execute_result"
    }
   ],
   "source": [
    "x = mean\n",
    "m = 3\n",
    "sx = s_otkl\n",
    "n = k\n",
    "a = 0.05\n",
    "\n",
    "ese = sx / (n**0.5)\n",
    "print(f'ese: {ese}')\n",
    "t = (x - m) / ese\n",
    "print(f't: {t}')\n",
    "\n",
    "df = n-1\n",
    "print(f'df: {df}')\n",
    "39"
   ],
   "metadata": {
    "collapsed": false,
    "ExecuteTime": {
     "end_time": "2023-11-12T08:48:27.364322200Z",
     "start_time": "2023-11-12T08:48:27.289062200Z"
    }
   },
   "id": "3a6e272af3eeb789"
  },
  {
   "cell_type": "markdown",
   "source": [
    "## Сравнение выборок"
   ],
   "metadata": {
    "collapsed": false
   },
   "id": "1d057e814810fe7b"
  },
  {
   "cell_type": "code",
   "execution_count": 2,
   "outputs": [
    {
     "name": "stdout",
     "output_type": "stream",
     "text": [
      "ese: 0.89\n",
      "t: -2.02\n",
      "df: 978\n"
     ]
    }
   ],
   "source": [
    "x1 = 43.87 # среднее по одной выборке\n",
    "x2 = 45.67 # среднее по второй выборке\n",
    "\n",
    "sx1 = 13 # отклонение по 1й выборке\n",
    "sx2 = 15 # отклонение по 2й выборке\n",
    "m1_m2 = 0 # гипотеза\n",
    "n = 500 # количество измерений\n",
    "\n",
    "ese = ( (sx1**2/n) + (sx2**2/n) ) ** 0.5\n",
    "ese = round(ese, 2)\n",
    "print(f'ese: {ese}')\n",
    "\n",
    "t = ((x1 - x2) - (m1_m2))/ ese\n",
    "t = round(t, 2)\n",
    "\n",
    "df = ((n-1)*(sx1**2 + sx2**2)**2)/(sx1**4 + sx2**4)\n",
    "df = round(df)\n",
    "print(f't: {t}')\n",
    "print(f'df: {df}')"
   ],
   "metadata": {
    "collapsed": false,
    "ExecuteTime": {
     "end_time": "2023-11-14T04:44:35.886832600Z",
     "start_time": "2023-11-14T04:44:35.883817800Z"
    }
   },
   "id": "67cd3909fbb7e2b5"
  },
  {
   "cell_type": "markdown",
   "source": [
    "## Тест для пропорций"
   ],
   "metadata": {
    "collapsed": false
   },
   "id": "5f14f611451afa6d"
  },
  {
   "cell_type": "code",
   "execution_count": 37,
   "outputs": [
    {
     "name": "stdout",
     "output_type": "stream",
     "text": [
      "z: 3.0\n"
     ]
    }
   ],
   "source": [
    "p1 = 0.4\n",
    "p2 = 0.34\n",
    "n1 = 1053\n",
    "n2 = 995\n",
    "var1 = round(p1*(1 - p1), 2)\n",
    "var2 = round(p2*(1 - p2), 2)\n",
    "\n",
    "ese = ( (var1/n1) + (var2/n2) )**0.5\n",
    "ese = round(ese, 2)\n",
    "z = (p1 - p2)/ese\n",
    "print(f'z: {z}')"
   ],
   "metadata": {
    "collapsed": false,
    "ExecuteTime": {
     "end_time": "2023-11-13T03:30:32.641541200Z",
     "start_time": "2023-11-13T03:30:32.633868700Z"
    }
   },
   "id": "87c4165c5423378e"
  }
 ],
 "metadata": {
  "kernelspec": {
   "display_name": "Python 3",
   "language": "python",
   "name": "python3"
  },
  "language_info": {
   "codemirror_mode": {
    "name": "ipython",
    "version": 2
   },
   "file_extension": ".py",
   "mimetype": "text/x-python",
   "name": "python",
   "nbconvert_exporter": "python",
   "pygments_lexer": "ipython2",
   "version": "2.7.6"
  }
 },
 "nbformat": 4,
 "nbformat_minor": 5
}
