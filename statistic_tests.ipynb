{
 "cells": [
  {
   "cell_type": "code",
   "execution_count": 223,
   "id": "initial_id",
   "metadata": {
    "collapsed": true,
    "ExecuteTime": {
     "end_time": "2023-11-15T17:37:07.771080100Z",
     "start_time": "2023-11-15T17:37:07.679310900Z"
    }
   },
   "outputs": [],
   "source": [
    "from pandas import DataFrame\n",
    "import pandas as pd\n",
    "import numpy as np\n",
    "from scipy import stats\n",
    "import scipy as scp\n",
    "import matplotlib.pyplot as plt\n",
    "import seaborn as sns\n",
    "from pylab import rcParams\n",
    "#sns.set()\n",
    "rcParams['figure.figsize'] = 10, 6\n",
    "%config InlineBackend.figure_format = 'svg'"
   ]
  },
  {
   "cell_type": "code",
   "execution_count": 224,
   "outputs": [],
   "source": [
    "jirafs = { 'Pigments':  [260, 255, 270, 260, 265, 270, 260, 255, 265, 260]\n",
    "         } \n",
    "\n",
    "jirafs_df = DataFrame(jirafs, columns= ['Pigments'])\n",
    "n = len(jirafs_df['Pigments'])"
   ],
   "metadata": {
    "collapsed": false,
    "ExecuteTime": {
     "end_time": "2023-11-15T17:37:07.867960400Z",
     "start_time": "2023-11-15T17:37:07.687790500Z"
    }
   },
   "id": "47f61c6d545e7e9f"
  },
  {
   "cell_type": "code",
   "execution_count": 225,
   "outputs": [
    {
     "name": "stdout",
     "output_type": "stream",
     "text": [
      "mean: 262.0\n"
     ]
    }
   ],
   "source": [
    "mean = jirafs_df['Pigments'].mean()\n",
    "print(f'mean: {mean}')"
   ],
   "metadata": {
    "collapsed": false,
    "ExecuteTime": {
     "end_time": "2023-11-15T17:37:07.869877500Z",
     "start_time": "2023-11-15T17:37:07.697040400Z"
    }
   },
   "id": "f6e633bb7886b336"
  },
  {
   "cell_type": "code",
   "execution_count": 226,
   "outputs": [
    {
     "data": {
      "text/plain": "   Pigments  Отклонение²\n0       260          4.0\n1       255         49.0\n2       270         64.0\n3       260          4.0\n4       265          9.0\n5       270         64.0\n6       260          4.0\n7       255         49.0\n8       265          9.0\n9       260          4.0",
      "text/html": "<div>\n<style scoped>\n    .dataframe tbody tr th:only-of-type {\n        vertical-align: middle;\n    }\n\n    .dataframe tbody tr th {\n        vertical-align: top;\n    }\n\n    .dataframe thead th {\n        text-align: right;\n    }\n</style>\n<table border=\"1\" class=\"dataframe\">\n  <thead>\n    <tr style=\"text-align: right;\">\n      <th></th>\n      <th>Pigments</th>\n      <th>Отклонение²</th>\n    </tr>\n  </thead>\n  <tbody>\n    <tr>\n      <th>0</th>\n      <td>260</td>\n      <td>4.0</td>\n    </tr>\n    <tr>\n      <th>1</th>\n      <td>255</td>\n      <td>49.0</td>\n    </tr>\n    <tr>\n      <th>2</th>\n      <td>270</td>\n      <td>64.0</td>\n    </tr>\n    <tr>\n      <th>3</th>\n      <td>260</td>\n      <td>4.0</td>\n    </tr>\n    <tr>\n      <th>4</th>\n      <td>265</td>\n      <td>9.0</td>\n    </tr>\n    <tr>\n      <th>5</th>\n      <td>270</td>\n      <td>64.0</td>\n    </tr>\n    <tr>\n      <th>6</th>\n      <td>260</td>\n      <td>4.0</td>\n    </tr>\n    <tr>\n      <th>7</th>\n      <td>255</td>\n      <td>49.0</td>\n    </tr>\n    <tr>\n      <th>8</th>\n      <td>265</td>\n      <td>9.0</td>\n    </tr>\n    <tr>\n      <th>9</th>\n      <td>260</td>\n      <td>4.0</td>\n    </tr>\n  </tbody>\n</table>\n</div>"
     },
     "execution_count": 226,
     "metadata": {},
     "output_type": "execute_result"
    }
   ],
   "source": [
    "jirafs_df['Отклонение²'] = (jirafs_df['Pigments'] - mean)**2\n",
    "jirafs_df"
   ],
   "metadata": {
    "collapsed": false,
    "ExecuteTime": {
     "end_time": "2023-11-15T17:37:07.871875200Z",
     "start_time": "2023-11-15T17:37:07.702206600Z"
    }
   },
   "id": "47ef31abdc4dd9bf"
  },
  {
   "cell_type": "code",
   "execution_count": 227,
   "outputs": [
    {
     "data": {
      "text/plain": "28.888888888888886"
     },
     "execution_count": 227,
     "metadata": {},
     "output_type": "execute_result"
    }
   ],
   "source": [
    "dispersion = (1 / (n - 1)) * (jirafs_df['Отклонение²'].sum())\n",
    "dispersion"
   ],
   "metadata": {
    "collapsed": false,
    "ExecuteTime": {
     "end_time": "2023-11-15T17:37:07.872876200Z",
     "start_time": "2023-11-15T17:37:07.714336300Z"
    }
   },
   "id": "5d914426d16d804"
  },
  {
   "cell_type": "code",
   "execution_count": 228,
   "outputs": [
    {
     "data": {
      "text/plain": "5.374838498865699"
     },
     "execution_count": 228,
     "metadata": {},
     "output_type": "execute_result"
    }
   ],
   "source": [
    "s_otkl = dispersion**0.5\n",
    "s_otkl  # Можно было вычислить так: jirafs_df['Pigments'].std()"
   ],
   "metadata": {
    "collapsed": false,
    "ExecuteTime": {
     "end_time": "2023-11-15T17:37:07.872876200Z",
     "start_time": "2023-11-15T17:37:07.720574700Z"
    }
   },
   "id": "4df9e5d62f0fa6b1"
  },
  {
   "cell_type": "markdown",
   "source": [
    "## Стандартная ошибка среднего"
   ],
   "metadata": {
    "collapsed": false
   },
   "id": "ca7ee7fa06bb9a6"
  },
  {
   "cell_type": "code",
   "execution_count": 229,
   "outputs": [
    {
     "data": {
      "text/plain": "   Pollution\n0         46\n1         37\n2         51\n3         47\n4         42\n5         39\n6         43\n7         46\n8         45",
      "text/html": "<div>\n<style scoped>\n    .dataframe tbody tr th:only-of-type {\n        vertical-align: middle;\n    }\n\n    .dataframe tbody tr th {\n        vertical-align: top;\n    }\n\n    .dataframe thead th {\n        text-align: right;\n    }\n</style>\n<table border=\"1\" class=\"dataframe\">\n  <thead>\n    <tr style=\"text-align: right;\">\n      <th></th>\n      <th>Pollution</th>\n    </tr>\n  </thead>\n  <tbody>\n    <tr>\n      <th>0</th>\n      <td>46</td>\n    </tr>\n    <tr>\n      <th>1</th>\n      <td>37</td>\n    </tr>\n    <tr>\n      <th>2</th>\n      <td>51</td>\n    </tr>\n    <tr>\n      <th>3</th>\n      <td>47</td>\n    </tr>\n    <tr>\n      <th>4</th>\n      <td>42</td>\n    </tr>\n    <tr>\n      <th>5</th>\n      <td>39</td>\n    </tr>\n    <tr>\n      <th>6</th>\n      <td>43</td>\n    </tr>\n    <tr>\n      <th>7</th>\n      <td>46</td>\n    </tr>\n    <tr>\n      <th>8</th>\n      <td>45</td>\n    </tr>\n  </tbody>\n</table>\n</div>"
     },
     "execution_count": 229,
     "metadata": {},
     "output_type": "execute_result"
    }
   ],
   "source": [
    "pollution = { 'Pollution':  [46, 37, 51, 47, 42, 39, 43, 46, 45]  } \n",
    "pollution_df = DataFrame(pollution, columns = ['Pollution'])\n",
    "pollution_df"
   ],
   "metadata": {
    "collapsed": false,
    "ExecuteTime": {
     "end_time": "2023-11-15T17:37:07.889752300Z",
     "start_time": "2023-11-15T17:37:07.728292900Z"
    }
   },
   "id": "e44cc1bd67a068cf"
  },
  {
   "cell_type": "code",
   "execution_count": 230,
   "outputs": [
    {
     "data": {
      "text/plain": "44.0"
     },
     "execution_count": 230,
     "metadata": {},
     "output_type": "execute_result"
    }
   ],
   "source": [
    "pollution_mean = pollution_df['Pollution'].mean()\n",
    "pollution_mean"
   ],
   "metadata": {
    "collapsed": false,
    "ExecuteTime": {
     "end_time": "2023-11-15T17:37:07.889752300Z",
     "start_time": "2023-11-15T17:37:07.737250200Z"
    }
   },
   "id": "82563b571c01aa45"
  },
  {
   "cell_type": "code",
   "execution_count": 231,
   "outputs": [
    {
     "data": {
      "text/plain": "9"
     },
     "execution_count": 231,
     "metadata": {},
     "output_type": "execute_result"
    }
   ],
   "source": [
    "s_otkl_pollution = 5\n",
    "n = len(pollution_df['Pollution'])\n",
    "n"
   ],
   "metadata": {
    "collapsed": false,
    "ExecuteTime": {
     "end_time": "2023-11-15T17:37:07.890763600Z",
     "start_time": "2023-11-15T17:37:07.743399600Z"
    }
   },
   "id": "233f35734aa30fd3"
  },
  {
   "cell_type": "code",
   "execution_count": 232,
   "outputs": [
    {
     "data": {
      "text/plain": "1.6666666666666667"
     },
     "execution_count": 232,
     "metadata": {},
     "output_type": "execute_result"
    }
   ],
   "source": [
    "s_error_pollution = s_otkl_pollution / (n**0.5)\n",
    "s_error_pollution"
   ],
   "metadata": {
    "collapsed": false,
    "ExecuteTime": {
     "end_time": "2023-11-15T17:37:07.890763600Z",
     "start_time": "2023-11-15T17:37:07.749826100Z"
    }
   },
   "id": "a01d71468f71cc1b"
  },
  {
   "cell_type": "code",
   "execution_count": 233,
   "outputs": [
    {
     "data": {
      "text/plain": "   Pollution  Otkl²\n0         46    4.0\n1         37   49.0\n2         51   49.0\n3         47    9.0\n4         42    4.0\n5         39   25.0\n6         43    1.0\n7         46    4.0\n8         45    1.0",
      "text/html": "<div>\n<style scoped>\n    .dataframe tbody tr th:only-of-type {\n        vertical-align: middle;\n    }\n\n    .dataframe tbody tr th {\n        vertical-align: top;\n    }\n\n    .dataframe thead th {\n        text-align: right;\n    }\n</style>\n<table border=\"1\" class=\"dataframe\">\n  <thead>\n    <tr style=\"text-align: right;\">\n      <th></th>\n      <th>Pollution</th>\n      <th>Otkl²</th>\n    </tr>\n  </thead>\n  <tbody>\n    <tr>\n      <th>0</th>\n      <td>46</td>\n      <td>4.0</td>\n    </tr>\n    <tr>\n      <th>1</th>\n      <td>37</td>\n      <td>49.0</td>\n    </tr>\n    <tr>\n      <th>2</th>\n      <td>51</td>\n      <td>49.0</td>\n    </tr>\n    <tr>\n      <th>3</th>\n      <td>47</td>\n      <td>9.0</td>\n    </tr>\n    <tr>\n      <th>4</th>\n      <td>42</td>\n      <td>4.0</td>\n    </tr>\n    <tr>\n      <th>5</th>\n      <td>39</td>\n      <td>25.0</td>\n    </tr>\n    <tr>\n      <th>6</th>\n      <td>43</td>\n      <td>1.0</td>\n    </tr>\n    <tr>\n      <th>7</th>\n      <td>46</td>\n      <td>4.0</td>\n    </tr>\n    <tr>\n      <th>8</th>\n      <td>45</td>\n      <td>1.0</td>\n    </tr>\n  </tbody>\n</table>\n</div>"
     },
     "execution_count": 233,
     "metadata": {},
     "output_type": "execute_result"
    }
   ],
   "source": [
    "pollution_df['Otkl²'] = (pollution_df['Pollution'] - pollution_mean)**2 \n",
    "pollution_df"
   ],
   "metadata": {
    "collapsed": false,
    "ExecuteTime": {
     "end_time": "2023-11-15T17:37:07.890763600Z",
     "start_time": "2023-11-15T17:37:07.756964300Z"
    }
   },
   "id": "31b7694b1f60b314"
  },
  {
   "cell_type": "code",
   "execution_count": 234,
   "outputs": [
    {
     "data": {
      "text/plain": "4.272001872658765"
     },
     "execution_count": 234,
     "metadata": {},
     "output_type": "execute_result"
    }
   ],
   "source": [
    "s_otkl_pollution = (pollution_df['Otkl²'].sum() / (n-1))**0.5\n",
    "s_otkl_pollution"
   ],
   "metadata": {
    "collapsed": false,
    "ExecuteTime": {
     "end_time": "2023-11-15T17:37:07.892763300Z",
     "start_time": "2023-11-15T17:37:07.770016600Z"
    }
   },
   "id": "8270bad5ec65b7f8"
  },
  {
   "cell_type": "code",
   "execution_count": 235,
   "outputs": [],
   "source": [
    "x = 77          # предполагаемое значение\n",
    "m = 67          # среднее значение ген. совокупности\n",
    "sigma = 24\n",
    "n = 64          # количество измерений"
   ],
   "metadata": {
    "collapsed": false,
    "ExecuteTime": {
     "end_time": "2023-11-15T17:37:07.892763300Z",
     "start_time": "2023-11-15T17:37:07.775085400Z"
    }
   },
   "id": "da2bda4fcd9be669"
  },
  {
   "cell_type": "code",
   "execution_count": 236,
   "outputs": [
    {
     "name": "stdout",
     "output_type": "stream",
     "text": [
      "z: 3.3333333333333335\n"
     ]
    }
   ],
   "source": [
    "\n",
    "z = abs((x - m) / ( sigma / n**0.5 ))\n",
    "print(f'z: {z}')"
   ],
   "metadata": {
    "collapsed": false,
    "ExecuteTime": {
     "end_time": "2023-11-15T17:37:07.892763300Z",
     "start_time": "2023-11-15T17:37:07.783355300Z"
    }
   },
   "id": "df6c77567349b097"
  },
  {
   "cell_type": "markdown",
   "source": [
    "# p-Value и тестирование гипотезы"
   ],
   "metadata": {
    "collapsed": false
   },
   "id": "8c1d2ab99455d9f9"
  },
  {
   "cell_type": "code",
   "execution_count": 237,
   "outputs": [
    {
     "name": "stdout",
     "output_type": "stream",
     "text": [
      "mean: 262.0\n",
      "dispersion: 26.0\n",
      "s_otkl: 5.374838498865699\n"
     ]
    }
   ],
   "source": [
    "data = np.array([260, 255, 270, 260, 265, 270, 260, 255, 265, 260])\n",
    "mean = data.mean()\n",
    "print(f'mean: {mean}')\n",
    "\n",
    "dispersion = np.var(data)\n",
    "print(f'dispersion: {dispersion}')\n",
    "\n",
    "s_otkl = np.std(data, ddof=1)\n",
    "print(f's_otkl: {s_otkl}')"
   ],
   "metadata": {
    "collapsed": false,
    "ExecuteTime": {
     "end_time": "2023-11-15T17:37:07.892763300Z",
     "start_time": "2023-11-15T17:37:07.788538600Z"
    }
   },
   "id": "5ecdf561a5bf6bd5"
  },
  {
   "cell_type": "code",
   "execution_count": 238,
   "outputs": [
    {
     "name": "stdout",
     "output_type": "stream",
     "text": [
      "ese: 1.7\n",
      "z: 2.94\n",
      "df: 99\n",
      "p_value: 0.004\n",
      "Отвергаем гипотезу\n"
     ]
    }
   ],
   "source": [
    "x = 53   # среднее значение\n",
    "m = 48   # предполагаемое значение\n",
    "sx = 17  # стандартное отклонение\n",
    "n = 100   # количество измерений\n",
    "a = 0.05 # уровень значимости\n",
    "\n",
    "ese = sx / (n**0.5)\n",
    "ese = round(ese, 2)\n",
    "print(f'ese: {ese}')\n",
    "z = (x - m) / ese\n",
    "z = abs(round(z, 2))\n",
    "df = n-1 # степени свободы\n",
    "print(f'z: {z}')\n",
    "print(f'df: {df}')\n",
    "\n",
    "N_rv = stats.norm(x, sx)\n",
    "p_value = round(stats.t.sf(abs(z), df=df)*2, 3)\n",
    "print(f'p_value: {p_value}')\n",
    "\n",
    "if (p_value < a):\n",
    "    print('Отвергаем гипотезу')\n",
    "else:\n",
    "    print('Принимаем гипотезу')"
   ],
   "metadata": {
    "collapsed": false,
    "ExecuteTime": {
     "end_time": "2023-11-15T17:37:07.893760800Z",
     "start_time": "2023-11-15T17:37:07.798538Z"
    }
   },
   "id": "2b967b87f6e1e879"
  },
  {
   "cell_type": "code",
   "execution_count": 239,
   "outputs": [],
   "source": [
    "jirafs = {'Pigments': [46, 37, 51, 47, 42, 39, 43, 46, 45] }\n",
    "jirafs_df = DataFrame(jirafs, columns=['Pigments'])\n",
    "n = len(jirafs_df['Pigments'])\n",
    "mean = jirafs_df['Pigments'].mean()"
   ],
   "metadata": {
    "collapsed": false,
    "ExecuteTime": {
     "end_time": "2023-11-15T17:37:07.893760800Z",
     "start_time": "2023-11-15T17:37:07.804584500Z"
    }
   },
   "id": "10f6ddfe80a5ed4d"
  },
  {
   "cell_type": "code",
   "execution_count": 240,
   "outputs": [
    {
     "name": "stdout",
     "output_type": "stream",
     "text": [
      "4.272001872658765\n"
     ]
    }
   ],
   "source": [
    "s_otkl = jirafs_df['Pigments'].std()\n",
    "print(s_otkl)"
   ],
   "metadata": {
    "collapsed": false,
    "ExecuteTime": {
     "end_time": "2023-11-15T17:37:07.893760800Z",
     "start_time": "2023-11-15T17:37:07.812923700Z"
    }
   },
   "id": "22b910f2d58fa939"
  },
  {
   "cell_type": "code",
   "execution_count": 241,
   "outputs": [
    {
     "name": "stdout",
     "output_type": "stream",
     "text": [
      "ese: 1.4240006242195884\n",
      "t: 28.79212221024812\n",
      "df: 8\n",
      "p_value: 0.0\n",
      "Отвергаем гипотезу\n"
     ]
    }
   ],
   "source": [
    "x = mean\n",
    "m = 3\n",
    "sx = s_otkl\n",
    "a = 0.05\n",
    "\n",
    "ese = sx / (n**0.5)\n",
    "print(f'ese: {ese}')\n",
    "t = (x - m) / ese\n",
    "print(f't: {t}')\n",
    "\n",
    "df = n-1 # степени свободы\n",
    "print(f'df: {df}')\n",
    "\n",
    "p_value = round(stats.t.sf(abs(t), df=df)*2, 3)\n",
    "print(f'p_value: {p_value}')\n",
    "\n",
    "if (p_value < a):\n",
    "    print('Отвергаем гипотезу')\n",
    "else:\n",
    "    print('Принимаем гипотезу')"
   ],
   "metadata": {
    "collapsed": false,
    "ExecuteTime": {
     "end_time": "2023-11-15T17:37:07.893760800Z",
     "start_time": "2023-11-15T17:37:07.821030300Z"
    }
   },
   "id": "3a6e272af3eeb789"
  },
  {
   "cell_type": "markdown",
   "source": [
    "## Сравнение выборок"
   ],
   "metadata": {
    "collapsed": false
   },
   "id": "1d057e814810fe7b"
  },
  {
   "cell_type": "code",
   "execution_count": 242,
   "outputs": [
    {
     "name": "stdout",
     "output_type": "stream",
     "text": [
      "ese: 0.72\n",
      "t: 2.78\n",
      "df: 172\n",
      "p_value: 0.006\n",
      "Отвергаем гипотезу\n"
     ]
    }
   ],
   "source": [
    "x1 = 21 # среднее по одной выборке\n",
    "x2 = 19 # среднее по второй выборке\n",
    "\n",
    "sx1 = 6 # отклонение по 1й выборке\n",
    "sx2 = 4 # отклонение по 2й выборке\n",
    "m1_m2 = 0 # гипотеза\n",
    "n = 100 # количество измерений\n",
    "a = 0.05\n",
    "\n",
    "ese = ( (sx1**2/n) + (sx2**2/n) ) ** 0.5\n",
    "ese = round(ese, 2)\n",
    "print(f'ese: {ese}')\n",
    "\n",
    "t = ((x1 - x2) - (m1_m2))/ ese\n",
    "t = round(t, 2)\n",
    "\n",
    "df = ((n-1)*(sx1**2 + sx2**2)**2)/(sx1**4 + sx2**4) # степени свободы\n",
    "df = round(df)\n",
    "\n",
    "p_value = round(stats.t.sf(abs(t), df=df)*2, 3)\n",
    "\n",
    "print(f't: {t}')\n",
    "print(f'df: {df}')\n",
    "print(f'p_value: {p_value}')\n",
    "\n",
    "if (p_value < a):\n",
    "    print('Отвергаем гипотезу')\n",
    "else:\n",
    "    print('Принимаем гипотезу')"
   ],
   "metadata": {
    "collapsed": false,
    "ExecuteTime": {
     "end_time": "2023-11-15T17:37:07.893760800Z",
     "start_time": "2023-11-15T17:37:07.828883800Z"
    }
   },
   "id": "67cd3909fbb7e2b5"
  },
  {
   "cell_type": "markdown",
   "source": [
    "## Тест для пропорций"
   ],
   "metadata": {
    "collapsed": false
   },
   "id": "5f14f611451afa6d"
  },
  {
   "cell_type": "code",
   "execution_count": 285,
   "outputs": [
    {
     "name": "stdout",
     "output_type": "stream",
     "text": [
      "z: 3.0\n"
     ]
    }
   ],
   "source": [
    "p1 = 0.4   # доля успеха в одной группе\n",
    "p2 = 0.34  # доля успеха во второй группе\n",
    "n1 = 1053  # количество в первой группе\n",
    "n2 = 995   # количество во второй группе\n",
    "\n",
    "var1 = round(p1*(1 - p1), 2) # дисперсия первой выборки\n",
    "var2 = round(p2*(1 - p2), 2) # дисперсия второй выборки\n",
    "\n",
    "ese = ( (var1/n1) + (var2/n2) )**0.5\n",
    "ese = round(ese, 2)\n",
    "z = (p1 - p2)/ese\n",
    "z = abs(round(z, 2))\n",
    "print(f'z: {z}')"
   ],
   "metadata": {
    "collapsed": false,
    "ExecuteTime": {
     "end_time": "2023-11-15T19:11:14.708649100Z",
     "start_time": "2023-11-15T19:11:14.701988300Z"
    }
   },
   "id": "87c4165c5423378e"
  }
 ],
 "metadata": {
  "kernelspec": {
   "display_name": "Python 3",
   "language": "python",
   "name": "python3"
  },
  "language_info": {
   "codemirror_mode": {
    "name": "ipython",
    "version": 2
   },
   "file_extension": ".py",
   "mimetype": "text/x-python",
   "name": "python",
   "nbconvert_exporter": "python",
   "pygments_lexer": "ipython2",
   "version": "2.7.6"
  }
 },
 "nbformat": 4,
 "nbformat_minor": 5
}
