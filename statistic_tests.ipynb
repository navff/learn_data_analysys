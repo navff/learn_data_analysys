{
 "cells": [
  {
   "cell_type": "code",
   "execution_count": 653,
   "id": "initial_id",
   "metadata": {
    "collapsed": true,
    "ExecuteTime": {
     "end_time": "2023-11-15T07:27:20.164047700Z",
     "start_time": "2023-11-15T07:27:20.070047300Z"
    }
   },
   "outputs": [],
   "source": [
    "from pandas import DataFrame\n",
    "import pandas as pd\n",
    "import numpy as np\n",
    "from scipy import stats\n",
    "import matplotlib.pyplot as plt\n",
    "import seaborn as sns\n",
    "from pylab import rcParams\n",
    "#sns.set()\n",
    "rcParams['figure.figsize'] = 10, 6\n",
    "%config InlineBackend.figure_format = 'svg'"
   ]
  },
  {
   "cell_type": "code",
   "execution_count": 654,
   "outputs": [],
   "source": [
    "jirafs = { 'Pigments':  [260, 255, 270, 260, 265, 270, 260, 255, 265, 260]\n",
    "         } \n",
    "\n",
    "jirafs_df = DataFrame(jirafs, columns= ['Pigments'])\n",
    "n = len(jirafs_df['Pigments'])"
   ],
   "metadata": {
    "collapsed": false,
    "ExecuteTime": {
     "end_time": "2023-11-15T07:27:20.201514300Z",
     "start_time": "2023-11-15T07:27:20.075847200Z"
    }
   },
   "id": "47f61c6d545e7e9f"
  },
  {
   "cell_type": "code",
   "execution_count": 655,
   "outputs": [
    {
     "name": "stdout",
     "output_type": "stream",
     "text": [
      "mean: 262.0\n"
     ]
    }
   ],
   "source": [
    "mean = jirafs_df['Pigments'].mean()\n",
    "print(f'mean: {mean}')"
   ],
   "metadata": {
    "collapsed": false,
    "ExecuteTime": {
     "end_time": "2023-11-15T07:27:20.203515700Z",
     "start_time": "2023-11-15T07:27:20.082564200Z"
    }
   },
   "id": "f6e633bb7886b336"
  },
  {
   "cell_type": "code",
   "execution_count": 656,
   "outputs": [
    {
     "data": {
      "text/plain": "   Pigments  Отклонение²\n0       260          4.0\n1       255         49.0\n2       270         64.0\n3       260          4.0\n4       265          9.0\n5       270         64.0\n6       260          4.0\n7       255         49.0\n8       265          9.0\n9       260          4.0",
      "text/html": "<div>\n<style scoped>\n    .dataframe tbody tr th:only-of-type {\n        vertical-align: middle;\n    }\n\n    .dataframe tbody tr th {\n        vertical-align: top;\n    }\n\n    .dataframe thead th {\n        text-align: right;\n    }\n</style>\n<table border=\"1\" class=\"dataframe\">\n  <thead>\n    <tr style=\"text-align: right;\">\n      <th></th>\n      <th>Pigments</th>\n      <th>Отклонение²</th>\n    </tr>\n  </thead>\n  <tbody>\n    <tr>\n      <th>0</th>\n      <td>260</td>\n      <td>4.0</td>\n    </tr>\n    <tr>\n      <th>1</th>\n      <td>255</td>\n      <td>49.0</td>\n    </tr>\n    <tr>\n      <th>2</th>\n      <td>270</td>\n      <td>64.0</td>\n    </tr>\n    <tr>\n      <th>3</th>\n      <td>260</td>\n      <td>4.0</td>\n    </tr>\n    <tr>\n      <th>4</th>\n      <td>265</td>\n      <td>9.0</td>\n    </tr>\n    <tr>\n      <th>5</th>\n      <td>270</td>\n      <td>64.0</td>\n    </tr>\n    <tr>\n      <th>6</th>\n      <td>260</td>\n      <td>4.0</td>\n    </tr>\n    <tr>\n      <th>7</th>\n      <td>255</td>\n      <td>49.0</td>\n    </tr>\n    <tr>\n      <th>8</th>\n      <td>265</td>\n      <td>9.0</td>\n    </tr>\n    <tr>\n      <th>9</th>\n      <td>260</td>\n      <td>4.0</td>\n    </tr>\n  </tbody>\n</table>\n</div>"
     },
     "execution_count": 656,
     "metadata": {},
     "output_type": "execute_result"
    }
   ],
   "source": [
    "jirafs_df['Отклонение²'] = (jirafs_df['Pigments'] - mean)**2\n",
    "jirafs_df"
   ],
   "metadata": {
    "collapsed": false,
    "ExecuteTime": {
     "end_time": "2023-11-15T07:27:20.238789300Z",
     "start_time": "2023-11-15T07:27:20.086079400Z"
    }
   },
   "id": "47ef31abdc4dd9bf"
  },
  {
   "cell_type": "code",
   "execution_count": 657,
   "outputs": [
    {
     "data": {
      "text/plain": "28.888888888888886"
     },
     "execution_count": 657,
     "metadata": {},
     "output_type": "execute_result"
    }
   ],
   "source": [
    "dispersion = (1 / (n - 1)) * (jirafs_df['Отклонение²'].sum())\n",
    "dispersion"
   ],
   "metadata": {
    "collapsed": false,
    "ExecuteTime": {
     "end_time": "2023-11-15T07:27:20.238789300Z",
     "start_time": "2023-11-15T07:27:20.096716600Z"
    }
   },
   "id": "5d914426d16d804"
  },
  {
   "cell_type": "code",
   "execution_count": 658,
   "outputs": [
    {
     "data": {
      "text/plain": "5.374838498865699"
     },
     "execution_count": 658,
     "metadata": {},
     "output_type": "execute_result"
    }
   ],
   "source": [
    "s_otkl = dispersion**0.5\n",
    "s_otkl  # Можно было вычислить так: jirafs_df['Pigments'].std()"
   ],
   "metadata": {
    "collapsed": false,
    "ExecuteTime": {
     "end_time": "2023-11-15T07:27:20.258635500Z",
     "start_time": "2023-11-15T07:27:20.100912800Z"
    }
   },
   "id": "4df9e5d62f0fa6b1"
  },
  {
   "cell_type": "markdown",
   "source": [
    "## Стандартная ошибка среднего"
   ],
   "metadata": {
    "collapsed": false
   },
   "id": "ca7ee7fa06bb9a6"
  },
  {
   "cell_type": "code",
   "execution_count": 659,
   "outputs": [
    {
     "data": {
      "text/plain": "   Pollution\n0         46\n1         37\n2         51\n3         47\n4         42\n5         39\n6         43\n7         46\n8         45",
      "text/html": "<div>\n<style scoped>\n    .dataframe tbody tr th:only-of-type {\n        vertical-align: middle;\n    }\n\n    .dataframe tbody tr th {\n        vertical-align: top;\n    }\n\n    .dataframe thead th {\n        text-align: right;\n    }\n</style>\n<table border=\"1\" class=\"dataframe\">\n  <thead>\n    <tr style=\"text-align: right;\">\n      <th></th>\n      <th>Pollution</th>\n    </tr>\n  </thead>\n  <tbody>\n    <tr>\n      <th>0</th>\n      <td>46</td>\n    </tr>\n    <tr>\n      <th>1</th>\n      <td>37</td>\n    </tr>\n    <tr>\n      <th>2</th>\n      <td>51</td>\n    </tr>\n    <tr>\n      <th>3</th>\n      <td>47</td>\n    </tr>\n    <tr>\n      <th>4</th>\n      <td>42</td>\n    </tr>\n    <tr>\n      <th>5</th>\n      <td>39</td>\n    </tr>\n    <tr>\n      <th>6</th>\n      <td>43</td>\n    </tr>\n    <tr>\n      <th>7</th>\n      <td>46</td>\n    </tr>\n    <tr>\n      <th>8</th>\n      <td>45</td>\n    </tr>\n  </tbody>\n</table>\n</div>"
     },
     "execution_count": 659,
     "metadata": {},
     "output_type": "execute_result"
    }
   ],
   "source": [
    "pollution = { 'Pollution':  [46, 37, 51, 47, 42, 39, 43, 46, 45]  } \n",
    "pollution_df = DataFrame(pollution, columns = ['Pollution'])\n",
    "pollution_df"
   ],
   "metadata": {
    "collapsed": false,
    "ExecuteTime": {
     "end_time": "2023-11-15T07:27:20.258635500Z",
     "start_time": "2023-11-15T07:27:20.106952600Z"
    }
   },
   "id": "e44cc1bd67a068cf"
  },
  {
   "cell_type": "code",
   "execution_count": 660,
   "outputs": [
    {
     "data": {
      "text/plain": "44.0"
     },
     "execution_count": 660,
     "metadata": {},
     "output_type": "execute_result"
    }
   ],
   "source": [
    "pollution_mean = pollution_df['Pollution'].mean()\n",
    "pollution_mean"
   ],
   "metadata": {
    "collapsed": false,
    "ExecuteTime": {
     "end_time": "2023-11-15T07:27:20.258635500Z",
     "start_time": "2023-11-15T07:27:20.113967700Z"
    }
   },
   "id": "82563b571c01aa45"
  },
  {
   "cell_type": "code",
   "execution_count": 661,
   "outputs": [
    {
     "data": {
      "text/plain": "9"
     },
     "execution_count": 661,
     "metadata": {},
     "output_type": "execute_result"
    }
   ],
   "source": [
    "s_otkl_pollution = 5\n",
    "n = len(pollution_df['Pollution'])\n",
    "n"
   ],
   "metadata": {
    "collapsed": false,
    "ExecuteTime": {
     "end_time": "2023-11-15T07:27:20.258635500Z",
     "start_time": "2023-11-15T07:27:20.118076700Z"
    }
   },
   "id": "233f35734aa30fd3"
  },
  {
   "cell_type": "code",
   "execution_count": 662,
   "outputs": [
    {
     "data": {
      "text/plain": "1.6666666666666667"
     },
     "execution_count": 662,
     "metadata": {},
     "output_type": "execute_result"
    }
   ],
   "source": [
    "s_error_pollution = s_otkl_pollution / (n**0.5)\n",
    "s_error_pollution"
   ],
   "metadata": {
    "collapsed": false,
    "ExecuteTime": {
     "end_time": "2023-11-15T07:27:20.259634Z",
     "start_time": "2023-11-15T07:27:20.122776800Z"
    }
   },
   "id": "a01d71468f71cc1b"
  },
  {
   "cell_type": "code",
   "execution_count": 663,
   "outputs": [
    {
     "data": {
      "text/plain": "   Pollution  Otkl²\n0         46    4.0\n1         37   49.0\n2         51   49.0\n3         47    9.0\n4         42    4.0\n5         39   25.0\n6         43    1.0\n7         46    4.0\n8         45    1.0",
      "text/html": "<div>\n<style scoped>\n    .dataframe tbody tr th:only-of-type {\n        vertical-align: middle;\n    }\n\n    .dataframe tbody tr th {\n        vertical-align: top;\n    }\n\n    .dataframe thead th {\n        text-align: right;\n    }\n</style>\n<table border=\"1\" class=\"dataframe\">\n  <thead>\n    <tr style=\"text-align: right;\">\n      <th></th>\n      <th>Pollution</th>\n      <th>Otkl²</th>\n    </tr>\n  </thead>\n  <tbody>\n    <tr>\n      <th>0</th>\n      <td>46</td>\n      <td>4.0</td>\n    </tr>\n    <tr>\n      <th>1</th>\n      <td>37</td>\n      <td>49.0</td>\n    </tr>\n    <tr>\n      <th>2</th>\n      <td>51</td>\n      <td>49.0</td>\n    </tr>\n    <tr>\n      <th>3</th>\n      <td>47</td>\n      <td>9.0</td>\n    </tr>\n    <tr>\n      <th>4</th>\n      <td>42</td>\n      <td>4.0</td>\n    </tr>\n    <tr>\n      <th>5</th>\n      <td>39</td>\n      <td>25.0</td>\n    </tr>\n    <tr>\n      <th>6</th>\n      <td>43</td>\n      <td>1.0</td>\n    </tr>\n    <tr>\n      <th>7</th>\n      <td>46</td>\n      <td>4.0</td>\n    </tr>\n    <tr>\n      <th>8</th>\n      <td>45</td>\n      <td>1.0</td>\n    </tr>\n  </tbody>\n</table>\n</div>"
     },
     "execution_count": 663,
     "metadata": {},
     "output_type": "execute_result"
    }
   ],
   "source": [
    "pollution_df['Otkl²'] = (pollution_df['Pollution'] - pollution_mean)**2 \n",
    "pollution_df"
   ],
   "metadata": {
    "collapsed": false,
    "ExecuteTime": {
     "end_time": "2023-11-15T07:27:20.259634Z",
     "start_time": "2023-11-15T07:27:20.127489400Z"
    }
   },
   "id": "31b7694b1f60b314"
  },
  {
   "cell_type": "code",
   "execution_count": 664,
   "outputs": [
    {
     "data": {
      "text/plain": "4.272001872658765"
     },
     "execution_count": 664,
     "metadata": {},
     "output_type": "execute_result"
    }
   ],
   "source": [
    "s_otkl_pollution = (pollution_df['Otkl²'].sum() / (n-1))**0.5\n",
    "s_otkl_pollution"
   ],
   "metadata": {
    "collapsed": false,
    "ExecuteTime": {
     "end_time": "2023-11-15T07:27:20.259634Z",
     "start_time": "2023-11-15T07:27:20.135761900Z"
    }
   },
   "id": "8270bad5ec65b7f8"
  },
  {
   "cell_type": "code",
   "execution_count": 665,
   "outputs": [],
   "source": [
    "x = 77          # предполагаемое значение\n",
    "m = 67          # среднее значение ген. совокупности\n",
    "sigma = 24\n",
    "n = 64          # количество измерений"
   ],
   "metadata": {
    "collapsed": false,
    "ExecuteTime": {
     "end_time": "2023-11-15T07:27:20.259634Z",
     "start_time": "2023-11-15T07:27:20.140319900Z"
    }
   },
   "id": "da2bda4fcd9be669"
  },
  {
   "cell_type": "code",
   "execution_count": 666,
   "outputs": [
    {
     "name": "stdout",
     "output_type": "stream",
     "text": [
      "z: 3.3333333333333335\n"
     ]
    }
   ],
   "source": [
    "\n",
    "z = abs((x - m) / ( sigma / n**0.5 ))\n",
    "print(f'z: {z}')"
   ],
   "metadata": {
    "collapsed": false,
    "ExecuteTime": {
     "end_time": "2023-11-15T07:27:20.259634Z",
     "start_time": "2023-11-15T07:27:20.147227400Z"
    }
   },
   "id": "df6c77567349b097"
  },
  {
   "cell_type": "markdown",
   "source": [
    "# p-Value и тестирование гипотезы"
   ],
   "metadata": {
    "collapsed": false
   },
   "id": "8c1d2ab99455d9f9"
  },
  {
   "cell_type": "code",
   "execution_count": 667,
   "outputs": [
    {
     "name": "stdout",
     "output_type": "stream",
     "text": [
      "mean: 262.0\n",
      "dispersion: 26.0\n",
      "s_otkl: 5.374838498865699\n"
     ]
    }
   ],
   "source": [
    "data = np.array([260, 255, 270, 260, 265, 270, 260, 255, 265, 260])\n",
    "mean = data.mean()\n",
    "print(f'mean: {mean}')\n",
    "\n",
    "dispersion = np.var(data)\n",
    "print(f'dispersion: {dispersion}')\n",
    "\n",
    "s_otkl = np.std(data, ddof=1)\n",
    "print(f's_otkl: {s_otkl}')"
   ],
   "metadata": {
    "collapsed": false,
    "ExecuteTime": {
     "end_time": "2023-11-15T07:27:20.259634Z",
     "start_time": "2023-11-15T07:27:20.150858200Z"
    }
   },
   "id": "5ecdf561a5bf6bd5"
  },
  {
   "cell_type": "code",
   "execution_count": 668,
   "outputs": [
    {
     "name": "stdout",
     "output_type": "stream",
     "text": [
      "ese: 1.7\n",
      "z: 2.94\n",
      "df: 99\n",
      "p_value: 0.004\n",
      "Отвергаем гипотезу\n"
     ]
    }
   ],
   "source": [
    "x = 53   # среднее значение\n",
    "m = 48   # предполагаемое значение\n",
    "sx = 17  # стандартное отклонение\n",
    "n = 100   # количество измерений\n",
    "a = 0.05 # уровень значимости\n",
    "\n",
    "ese = sx / (n**0.5)\n",
    "ese = round(ese, 2)\n",
    "print(f'ese: {ese}')\n",
    "z = (x - m) / ese\n",
    "z = abs(round(z, 2))\n",
    "df = n-1\n",
    "print(f'z: {z}')\n",
    "print(f'df: {df}')\n",
    "\n",
    "N_rv = stats.norm(x, sx)\n",
    "p_value = round(stats.t.sf(abs(z), df=df)*2, 3)\n",
    "print(f'p_value: {p_value}')\n",
    "\n",
    "if (p_value < a):\n",
    "    print('Отвергаем гипотезу')\n",
    "else:\n",
    "    print('Принимаем гипотезу')"
   ],
   "metadata": {
    "collapsed": false,
    "ExecuteTime": {
     "end_time": "2023-11-15T07:27:20.260672200Z",
     "start_time": "2023-11-15T07:27:20.156069600Z"
    }
   },
   "id": "2b967b87f6e1e879"
  },
  {
   "cell_type": "code",
   "execution_count": 669,
   "outputs": [
    {
     "name": "stdout",
     "output_type": "stream",
     "text": [
      "9\n",
      "44.0\n",
      "   Pigments  Отклонение²\n",
      "0        46          4.0\n",
      "1        37         49.0\n",
      "2        51         49.0\n",
      "3        47          9.0\n",
      "4        42          4.0\n",
      "5        39         25.0\n",
      "6        43          1.0\n",
      "7        46          4.0\n",
      "8        45          1.0\n"
     ]
    }
   ],
   "source": [
    "jirafs = {'Pigments': [46, 37, 51, 47, 42, 39, 43, 46, 45] }\n",
    "\n",
    "jirafs_df = DataFrame(jirafs, columns=['Pigments'])\n",
    "k = len(jirafs_df['Pigments'])\n",
    "print (k)\n",
    "mean = jirafs_df['Pigments'].mean()\n",
    "print(mean)\n",
    "jirafs_df['Отклонение²'] = (jirafs_df['Pigments'] - mean) ** 2\n",
    "print(jirafs_df)"
   ],
   "metadata": {
    "collapsed": false,
    "ExecuteTime": {
     "end_time": "2023-11-15T07:27:20.261692300Z",
     "start_time": "2023-11-15T07:27:20.166005400Z"
    }
   },
   "id": "10f6ddfe80a5ed4d"
  },
  {
   "cell_type": "code",
   "execution_count": 670,
   "outputs": [
    {
     "name": "stdout",
     "output_type": "stream",
     "text": [
      "18.25\n",
      "4.272001872658765\n"
     ]
    }
   ],
   "source": [
    "dispersion = (1 / (k - 1)) * (jirafs_df['Отклонение²'].sum())\n",
    "print(dispersion)\n",
    "s_otkl = dispersion ** 0.5\n",
    "print(s_otkl)"
   ],
   "metadata": {
    "collapsed": false,
    "ExecuteTime": {
     "end_time": "2023-11-15T07:27:20.261692300Z",
     "start_time": "2023-11-15T07:27:20.171738700Z"
    }
   },
   "id": "22b910f2d58fa939"
  },
  {
   "cell_type": "code",
   "execution_count": 671,
   "outputs": [
    {
     "name": "stdout",
     "output_type": "stream",
     "text": [
      "ese: 1.4240006242195884\n",
      "t: 28.79212221024812\n",
      "df: 8\n"
     ]
    },
    {
     "data": {
      "text/plain": "39"
     },
     "execution_count": 671,
     "metadata": {},
     "output_type": "execute_result"
    }
   ],
   "source": [
    "x = mean\n",
    "m = 3\n",
    "sx = s_otkl\n",
    "n = k\n",
    "a = 0.05\n",
    "\n",
    "ese = sx / (n**0.5)\n",
    "print(f'ese: {ese}')\n",
    "t = (x - m) / ese\n",
    "print(f't: {t}')\n",
    "\n",
    "df = n-1\n",
    "print(f'df: {df}')\n",
    "39"
   ],
   "metadata": {
    "collapsed": false,
    "ExecuteTime": {
     "end_time": "2023-11-15T07:27:20.261692300Z",
     "start_time": "2023-11-15T07:27:20.178172600Z"
    }
   },
   "id": "3a6e272af3eeb789"
  },
  {
   "cell_type": "markdown",
   "source": [
    "## Сравнение выборок"
   ],
   "metadata": {
    "collapsed": false
   },
   "id": "1d057e814810fe7b"
  },
  {
   "cell_type": "code",
   "execution_count": 672,
   "outputs": [
    {
     "name": "stdout",
     "output_type": "stream",
     "text": [
      "ese: 0.89\n",
      "t: -2.02\n",
      "df: 978\n"
     ]
    }
   ],
   "source": [
    "x1 = 43.87 # среднее по одной выборке\n",
    "x2 = 45.67 # среднее по второй выборке\n",
    "\n",
    "sx1 = 13 # отклонение по 1й выборке\n",
    "sx2 = 15 # отклонение по 2й выборке\n",
    "m1_m2 = 0 # гипотеза\n",
    "n = 500 # количество измерений\n",
    "\n",
    "ese = ( (sx1**2/n) + (sx2**2/n) ) ** 0.5\n",
    "ese = round(ese, 2)\n",
    "print(f'ese: {ese}')\n",
    "\n",
    "t = ((x1 - x2) - (m1_m2))/ ese\n",
    "t = round(t, 2)\n",
    "\n",
    "df = ((n-1)*(sx1**2 + sx2**2)**2)/(sx1**4 + sx2**4)\n",
    "df = round(df)\n",
    "\n",
    "norm_rv = stats.norm(loc=x1, scale=sx1)\n",
    "\n",
    "\n",
    "print(f't: {t}')\n",
    "print(f'df: {df}')"
   ],
   "metadata": {
    "collapsed": false,
    "ExecuteTime": {
     "end_time": "2023-11-15T07:27:20.261692300Z",
     "start_time": "2023-11-15T07:27:20.186848800Z"
    }
   },
   "id": "67cd3909fbb7e2b5"
  },
  {
   "cell_type": "markdown",
   "source": [
    "## Тест для пропорций"
   ],
   "metadata": {
    "collapsed": false
   },
   "id": "5f14f611451afa6d"
  },
  {
   "cell_type": "code",
   "execution_count": 673,
   "outputs": [
    {
     "name": "stdout",
     "output_type": "stream",
     "text": [
      "z: 2.2388059701492558\n"
     ]
    }
   ],
   "source": [
    "p1 = 0.05\n",
    "p2 = 0.047\n",
    "n1 = 50000\n",
    "n2 = 50000\n",
    "\n",
    "var1 = round(p1*(1 - p1), 2)\n",
    "var2 = round(p2*(1 - p2), 2)\n",
    "\n",
    "ese = ( (var1/n1) + (var2/n2) )**0.5\n",
    "ese = round(ese, 5)\n",
    "z = (p1 - p2)/ese\n",
    "print(f'z: {z}')"
   ],
   "metadata": {
    "collapsed": false,
    "ExecuteTime": {
     "end_time": "2023-11-15T07:27:20.261692300Z",
     "start_time": "2023-11-15T07:27:20.188857400Z"
    }
   },
   "id": "87c4165c5423378e"
  }
 ],
 "metadata": {
  "kernelspec": {
   "display_name": "Python 3",
   "language": "python",
   "name": "python3"
  },
  "language_info": {
   "codemirror_mode": {
    "name": "ipython",
    "version": 2
   },
   "file_extension": ".py",
   "mimetype": "text/x-python",
   "name": "python",
   "nbconvert_exporter": "python",
   "pygments_lexer": "ipython2",
   "version": "2.7.6"
  }
 },
 "nbformat": 4,
 "nbformat_minor": 5
}
